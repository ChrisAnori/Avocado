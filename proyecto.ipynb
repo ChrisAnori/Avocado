{
 "cells": [
  {
   "cell_type": "markdown",
   "id": "f8f63eb2-6e4c-47f2-996a-9ebfbe752166",
   "metadata": {},
   "source": [
    "# Análisis del Conjunto de Datos de Precios de Aguacate\n",
    "\n",
    "**Conjunto de Datos de Precios de Aguacate**: El conjunto de datos \"Precios de Aguacate\", obtenido de Kaggle, es un conjunto de datos ampliamente utilizado para proyectos de análisis de datos y aprendizaje automático. Proporciona datos históricos sobre precios y ventas de aguacates en varias regiones de los Estados Unidos. Este conjunto de datos es valioso para entender las tendencias en los precios de los aguacates, los volúmenes de ventas y su relación con diferentes factores.\n",
    "\n",
    "## Atributos Clave\n",
    "\n",
    "- **Columnas**: El conjunto de datos incluye varias columnas de información. Algunas de las columnas clave típicamente encontradas en este conjunto de datos incluyen:\n",
    "    - **Fecha** (`Date`): La fecha de observación.\n",
    "    - **Precio Promedio** (`AveragePrice`): El precio promedio de los aguacates.\n",
    "    - **Volumen Total** (`Total Volume`): El volumen total de aguacates vendidos.\n",
    "    - **4046**: Volumen de aguacates Hass pequeños vendidos.\n",
    "    - **4225**: Volumen de aguacates Hass grandes vendidos.\n",
    "    - **4770**: Volumen de aguacates Hass extra grandes vendidos.\n",
    "    - **Bolsas Totales** (`Total Bags`): Total de bolsas de aguacates vendidas.\n",
    "    - **Bolsas Pequeñas** (`Small Bags`): Bolsas de aguacates pequeños vendidas.\n",
    "    - **Bolsas Grandes** (`Large Bags`): Bolsas de aguacates grandes vendidas.\n",
    "    - **Bolsas Extra Grandes** (`XLarge Bags`): Bolsas de aguacates extra grandes vendidas.\n",
    "    - **Tipo** (`Type`): El tipo de aguacates, generalmente categorizados como convencionales u orgánicos.\n",
    "    - **Región** (`Region`): La región o ciudad dentro de los Estados Unidos donde se registraron los datos.\n",
    "\n",
    "- **Rango de Fechas**: El conjunto de datos abarca un rango de fechas, lo que permite el análisis de series de tiempo. Puedes examinar cómo cambian los precios y ventas de aguacates a lo largo de diferentes estaciones y años.\n",
    "\n",
    "- **Regiones**: Se proporciona información para varias regiones o ciudades a través de los Estados Unidos, lo que permite el análisis de variaciones de precios y ventas en diferentes mercados.\n",
    "\n",
    "- **Tipos**: El conjunto de datos distingue entre diferentes tipos de aguacates, como convencionales y orgánicos, lo que puede ser útil para comparar tendencias de precios entre estas categorías.\n",
    "\n",
    "- **Volumen**: Están disponibles datos sobre el volumen total de aguacates vendidos. Esta métrica de volumen se utiliza a menudo para analizar la demanda del mercado.\n",
    "\n",
    "- **Precio Promedio**: El conjunto de datos contiene el precio promedio de los aguacates, una métrica fundamental para entender las tendencias de precios.\n",
    "\n",
    "## Casos de Uso\n",
    "\n",
    "- Este conjunto de datos se utiliza comúnmente para aprender y practicar el análisis de datos, visualización de datos y modelado de regresión en proyectos de ciencia de datos y aprendizaje automático.\n",
    "\n",
    "- Sirve como un recurso valioso para entender cómo trabajar con datos del mundo real, extraer conocimientos y tomar decisiones basadas en datos.\n",
    "\n",
    "---\n",
    "\n",
    "## Actividades de Análisis\n",
    "\n",
    "### 1. **Análisis de Series Temporales**\n",
    "**Resumen:** El análisis de series temporales permite identificar patrones, tendencias y estacionalidades en los precios y volúmenes de ventas de aguacates a lo largo del tiempo.\n",
    "\n",
    "1. **Descomposición de Series Temporales de Precios:** \n",
    "   - **Uso de Datos:** Usa la columna `AveragePrice` y `Date`.\n",
    "   - **Esperado:** Utiliza la función `seasonal_decompose` de la librería `statsmodels` para descomponer la serie temporal de precios en componentes de tendencia, estacionalidad y ruido. \n",
    "     - Convierte `Date` a tipo datetime usando `pd.to_datetime()`.\n",
    "     - Agrupa los datos por `Date` y calcula el promedio de `AveragePrice` utilizando `groupby()` si es necesario.\n",
    "     - Visualiza los componentes descompuestos usando `matplotlib` para cada uno de ellos.\n",
    "\n",
    "2. **Análisis de Estacionalidad por Región:** \n",
    "   - **Uso de Datos:** Usa las columnas `AveragePrice`, `Date` y `Total Volume`.\n",
    "   - **Esperado:** Utiliza gráficos de líneas para visualizar cómo varían los precios de aguacates por región a lo largo de diferentes estaciones del año.\n",
    "     - Agrupa los datos por `region` y `Date` utilizando `groupby()`.\n",
    "     - Calcula el promedio de `AveragePrice` para cada región.\n",
    "     - Representa gráficamente las tendencias utilizando `plt.plot()` de `matplotlib`.\n",
    "\n",
    "3. **Comparación de Precios Promedio Mensuales:**\n",
    "   - **Uso de Datos:** Usa las columnas `AveragePrice` y `Date`.\n",
    "   - **Esperado:** Calcula y compara los precios promedio mensuales.\n",
    "     - Agrupa los datos por mes usando `pd.Grouper` con `freq='M'`.\n",
    "     - Calcula el promedio de `AveragePrice` para cada mes con `mean()`.\n",
    "     - Visualiza los resultados con un gráfico de líneas usando `plt.plot()`.\n",
    "\n",
    "4. **Tendencia de Ventas a lo Largo del Tiempo:**\n",
    "   - **Uso de Datos:** Usa las columnas `Total Volume` y `Date`.\n",
    "   - **Esperado:** Analiza cómo varía el volumen total de ventas a lo largo del tiempo.\n",
    "     - Agrupa los datos por `Date` y suma el `Total Volume` usando `groupby()`.\n",
    "     - Visualiza los resultados usando un gráfico de líneas con `plt.plot()` para mostrar la tendencia.\n",
    "\n",
    "5. **Análisis de Cambios en Precios Anuales:**\n",
    "   - **Uso de Datos:** Usa las columnas `AveragePrice` y `year`.\n",
    "   - **Esperado:** Observa las diferencias anuales en los precios promedio.\n",
    "     - Agrupa los datos por `year` utilizando `groupby()`.\n",
    "     - Calcula el promedio de `AveragePrice` para cada año.\n",
    "     - Representa los resultados en un gráfico de barras usando `plt.bar()` que compare los precios de cada año.\n",
    "\n",
    "### 2. **Gráficos para Visualización de Datos**\n",
    "**Resumen:** La visualización de datos es clave para identificar patrones y relaciones entre diferentes variables. Los gráficos apropiados pueden proporcionar información valiosa sobre el comportamiento de los precios y volúmenes de ventas.\n",
    "\n",
    "1. **Gráfico de Violín de Volumen de Ventas por Región:**\n",
    "   - **Uso de Datos:** Usa las columnas `Total Volume` y `region`.\n",
    "   - **Esperado:** Visualiza la distribución de ventas en diferentes regiones.\n",
    "     - Utiliza la función `violinplot` de `seaborn` para crear gráficos de violín.\n",
    "     - Configura los ejes para mostrar la relación entre `Total Volume` y `region`.\n",
    "     - Añade etiquetas y títulos usando `plt.title()` y `plt.xlabel()` para facilitar la interpretación.\n",
    "\n",
    "2. **Boxplot Comparativo de Precios entre Años:**\n",
    "   - **Uso de Datos:** Usa las columnas `AveragePrice` y `year`.\n",
    "   - **Esperado:** Genera boxplots para comparar la distribución de precios.\n",
    "     - Utiliza `boxplot` de `seaborn` para crear boxplots que comparen `AveragePrice` entre diferentes años.\n",
    "     - Asegúrate de que cada boxplot represente un año diferente.\n",
    "     - Incluye etiquetas y títulos descriptivos usando `plt.title()`.\n",
    "\n",
    "3. **Histograma de Volumen Total de Ventas:**\n",
    "   - **Uso de Datos:** Usa la columna `Total Volume`.\n",
    "   - **Esperado:** Crea un histograma para mostrar la distribución del volumen total de ventas.\n",
    "     - Utiliza `hist()` de `matplotlib` para crear el histograma.\n",
    "     - Ajusta el número de bins para una visualización clara usando el parámetro `bins`.\n",
    "     - Añade etiquetas y un título que describa lo que se muestra.\n",
    "\n",
    "4. **Gráfico de Barras de Ventas por Tipo de Bolsa:**\n",
    "   - **Uso de Datos:** Utiliza las columnas `Total Bags`, `Small Bags`, `Large Bags` y `XLarge Bags`.\n",
    "   - **Esperado:** Compara las ventas de diferentes tipos de bolsas.\n",
    "     - Suma los volúmenes de ventas por tipo de bolsa utilizando `sum()`.\n",
    "     - Crea un gráfico de barras con `plt.bar()` para mostrar las diferencias en ventas.\n",
    "     - Asegúrate de incluir etiquetas para cada tipo de bolsa.\n",
    "\n",
    "5. **Gráfico de Líneas de Precios Promedios por Año:**\n",
    "   - **Uso de Datos:** Utiliza las columnas `AveragePrice` y `year`.\n",
    "   - **Esperado:** Visualiza la tendencia de precios promedio a lo largo de los años.\n",
    "     - Agrupa los datos por `year` y calcula el promedio de `AveragePrice`.\n",
    "     - Usa `plt.plot()` para crear un gráfico de líneas que muestre la evolución de precios.\n",
    "     - Añade un título y etiquetas descriptivas a los ejes usando `plt.title()` y `plt.xlabel()`.\n",
    "\n",
    "### 3. **Elasticidad del Precio**\n",
    "**Resumen:** El análisis de elasticidad precio-demanda permite evaluar cómo los cambios en los precios afectan la demanda de aguacates. Comprender la elasticidad puede ayudar a formular estrategias de precios más efectivas.\n",
    "\n",
    "La fórmula de elasticidad precio-demanda es:\n",
    "\n",
    "$$\n",
    "E_d = \\frac{\\% \\text{Cambio en la cantidad demandada}}{\\% \\text{Cambio en el precio}} = \\frac{\\Delta Q / Q}{\\Delta P / P}\n",
    "$$\n",
    "\n",
    "1. **Elasticidad Precio-Demanda por Año:**\n",
    "   - **Uso de Datos:** Usa las columnas `AveragePrice` y `Total Volume`.\n",
    "   - **Esperado:** Calcula la elasticidad del precio de la demanda para cada año.\n",
    "     - Calcula la variación porcentual de `Total Volume` y `AveragePrice` utilizando `pd.pct_change()`.\n",
    "     - Utiliza la fórmula de elasticidad para determinar la sensibilidad de la demanda respecto al precio.\n",
    "     - Presenta los resultados en un gráfico de líneas usando `plt.plot()` para mostrar la elasticidad por año.\n",
    "\n",
    "2. **Comparación de Elasticidad en Diferentes Mercados:**\n",
    "   - **Uso de Datos:** Utiliza las columnas `Total Volume` y `AveragePrice`.\n",
    "   - **Esperado:** Calcula la elasticidad del precio de la demanda en diferentes regiones.\n",
    "     - Agrupa los datos por `region` y calcula la elasticidad para cada región utilizando `pd.pct_change()`.\n",
    "     - Presenta un gráfico de barras que muestre la elasticidad por región usando `plt.bar()`.\n",
    "\n",
    "3. **Elasticidad a Nivel de Tipo de Bolsa:**\n",
    "   - **Uso de Datos:** Usa las columnas `AveragePrice` y `Total Bags`.\n",
    "   - **Esperado:** Calcula la elasticidad del precio de la demanda específica para cada tipo de bolsa.\n",
    "     - Suma los volúmenes de ventas por tipo de bolsa utilizando `groupby()` y `sum()`.\n",
    "     - Calcula la elasticidad para cada tipo y presenta los resultados en un gráfico comparativo usando `plt.bar()`.\n",
    "\n",
    "4. **Análisis de Elasticidad Comparativa entre Orgánicos y Convencionales:**\n",
    "   - **Uso de Datos:** Usa las columnas `AveragePrice`, `Total Volume` y `type`.\n",
    "   - **Esperado:** Compara la elasticidad de la demanda entre aguacates orgánicos y convencionales.\n",
    "     - Agrupa los datos por `type` y calcula la elasticidad utilizando `pd.pct_change()`.\n",
    "     - Presenta un gráfico que muestre la diferencia en elasticidad entre los dos tipos usando `plt.bar()`.\n",
    "\n",
    "5. **Análisis de la Elasticidad Precios-Ventas:**\n",
    "   - **Uso de Datos:** Usa las columnas `AveragePrice` y `Total Volume`.\n",
    "   - **Esperado:** Examina cómo las variaciones en `AveragePrice` afectan a `Total Volume`.\n",
    "     - Realiza un análisis de la relación entre estas dos variables calculando la elasticidad.\n",
    "     - Presenta un gráfico de dispersión que muestre la relación y discute la tendencia observada utilizando `plt.scatter()` y `plt.plot()`.\n",
    "\n",
    "### 4. **Análisis de Cohortes**\n",
    "**Resumen:** El análisis de cohortes permite agrupar datos según características específicas y observar cómo se comportan a lo largo del tiempo. Se centra en cohortes de precios y ventas para entender las dinámicas del mercado.\n",
    "\n",
    "1. **Cohortes Basadas en Precios Promedios Trimestrales:**\n",
    "   - **Uso de Datos:** Usa las columnas `AveragePrice`, `Total Volume` y `Date`.\n",
    "   - **Esperado:** Crea cohortes trimestrales y analiza cambios en precios y volúmenes.\n",
    "     - Agrupa los datos por trimestre usando `pd.Grouper` con `freq='Q'`.\n",
    "     - Calcula el promedio de `AveragePrice` y suma `Total Volume` para cada cohorte.\n",
    "     - Visualiza los resultados en un gráfico de líneas que muestre la evolución de las cohortes.\n",
    "\n",
    "2. **Cohortes por Región y Fecha:**\n",
    "   - **Uso de Datos:** Utiliza las columnas `AveragePrice`, `Total Volume`, `region` y `Date`.\n",
    "   - **Esperado:** Analiza cómo varían las cohortes de diferentes regiones.\n",
    "     - Agrupa los datos por `region` y `Date` usando `groupby()`.\n",
    "     - Calcula el promedio de precios y volumen para cada cohorte.\n",
    "     - Presenta los resultados en gráficos de barras que muestren comparaciones entre regiones.\n",
    "\n",
    "3. **Análisis de Cohortes en Función del Tipo de Bolsa:**\n",
    "   - **Uso de Datos:** Usa las columnas `Total Bags`, `Small Bags`, `Large Bags`, `XLarge Bags` y `Date`.\n",
    "   - **Esperado:** Examina cómo se comportan las diferentes cohortes según el tipo de bolsa.\n",
    "     - Agrupa los datos por tipo de bolsa y `Date`.\n",
    "     - Calcula el volumen de ventas total y muestra los resultados en un gráfico de líneas.\n",
    "\n",
    "4. **Cohortes de Clientes Basadas en Ventas:**\n",
    "   - **Uso de Datos:** Usa las columnas `Total Volume`, `Date` y `region`.\n",
    "   - **Esperado:** Analiza el comportamiento de las cohortes según el volumen de ventas.\n",
    "     - Clasifica los clientes según su volumen de compras.\n",
    "     - Visualiza las cohortes en gráficos de líneas o barras que muestren el comportamiento de compra a lo largo del tiempo.\n",
    "\n",
    "5. **Evaluación de Retención de Ventas por Cohorte:**\n",
    "   - **Uso de Datos:** Usa las columnas `Total Volume` y `Date`.\n",
    "   - **Esperado:** Estudia cómo se retienen las ventas en cohortes a lo largo de un año.\n",
    "     - Agrupa los datos por mes y cohortes.\n",
    "     - Calcula la retención de ventas y visualiza los resultados en un gráfico de líneas que muestre las tasas de retención.\n",
    "\n",
    "\n",
    "### 5. **Análisis de Correlación y Regresión**\n",
    "**Resumen:** Se centra en la identificación de relaciones significativas entre las variables numéricas y el desarrollo de modelos de regresión para hacer predicciones basadas en esas relaciones.\n",
    "\n",
    "1. **Matriz de Correlación:** \n",
    "   - **Uso de Datos:** Utiliza las columnas numéricas del DataFrame (p. ej., `AveragePrice`, `Total Volume`, `4046`, `4225`, `4770`, `Total Bags`).\n",
    "   - **Esperado:** \n",
    "     - Importa las librerías necesarias: `import seaborn as sns` y `import matplotlib.pyplot as plt`.\n",
    "     - Calcula la matriz de correlación usando el método `.corr()` del DataFrame.\n",
    "     - Visualiza la matriz utilizando `sns.heatmap()`. \n",
    "     - Anota las correlaciones más significativas y discute su posible impacto en el análisis.\n",
    "\n",
    "2. **Análisis de Dispersión entre Variables Clave:** \n",
    "   - **Uso de Datos:** Selecciona variables numéricas de interés como `AveragePrice` y `Total Volume`.\n",
    "   - **Esperado:** \n",
    "     - Importa las librerías necesarias: `import seaborn as sns` y `import matplotlib.pyplot as plt`.\n",
    "     - Crea un gráfico de dispersión con `sns.scatterplot()` para visualizar la relación entre `AveragePrice` y `Total Volume`.\n",
    "     - Añade una línea de regresión utilizando `sns.regplot()` para ilustrar las tendencias.\n",
    "     - Compara el ajuste de una regresión lineal frente a una polinómica.\n",
    "\n",
    "3. **Predicciones Mensuales Usando Datos Trimestrales:**\n",
    "   - **Uso de Datos:** Agrupa datos por trimestres y segmenta en meses utilizando `Date`, `AveragePrice`, y `Total Volume`.\n",
    "   - **Esperado:** \n",
    "     - Convierte la columna `Date` a tipo datetime si es necesario.\n",
    "     - Agrupa los datos por trimestre y calcula el promedio de `AveragePrice` y `Total Volume`.\n",
    "     - Utiliza los datos de los primeros 2 meses de un trimestre para predecir el precio del tercer mes.\n",
    "     - Compara los resultados de las predicciones con los precios reales.\n",
    "     - Evalúa la precisión de tus predicciones utilizando métricas como R² y RMSE.\n",
    "\n",
    "4. **Predicciones Trimestrales:**\n",
    "   - **Uso de Datos:** Agrupa los datos en trimestres usando solo variables numéricas.\n",
    "   - **Esperado:** \n",
    "     - Agrupa los datos por trimestres usando `pd.Grouper()` con `freq='Q'` para obtener promedios.\n",
    "     - Usa los datos de 1 o 2 trimestres anteriores para predecir el siguiente trimestre ajustando modelos de regresión lineal y polinómica.\n",
    "     - Compara los resultados de las predicciones con los precios reales.\n",
    "     - Evalúa la precisión de tus predicciones utilizando métricas como R² y RMSE.\n",
    "\n",
    "5. **Predicciones Anuales:**\n",
    "   - **Uso de Datos:** Agrupa los datos en años, utilizando únicamente columnas numéricas.\n",
    "   - **Esperado:** \n",
    "     - Agrupa los datos por año utilizando `pd.Grouper()` con `freq='Y'`.\n",
    "     - Usa los datos de 1 o 2 años anteriores para predecir el siguiente año ajustando modelos de regresión lineal y polinómica.\n",
    "     - Evalúa la precisión de tus predicciones utilizando métricas como R² y RMSE.\n",
    "\n",
    "6. **Desarrollo de Modelos de Regresión Múltiple:** \n",
    "   - **Uso de Datos:** Selecciona varias variables numéricas como `Total Volume`, `4046`, `4225`, `4770`, y `Total Bags` para predecir `AveragePrice`.\n",
    "   - **Esperado:** \n",
    "     - Define las variables independientes (X) y dependientes (y).\n",
    "     - Ajusta modelos de regresión múltiple.\n",
    "     - Compara su rendimiento utilizando métricas como R² y RMSE y discute las implicaciones de los resultados.\n",
    "\n",
    "7. **Análisis de Coeficientes de Regresión Múltiple:**\n",
    "   - **Uso de Datos:** Examina los coeficientes de los modelos de regresión múltiple ajustados.\n",
    "   - **Esperado:** \n",
    "     - Extrae los coeficientes del modelo ajustado.\n",
    "     - Interpreta los coeficientes para entender el impacto de cada variable numérica en `AveragePrice`.\n",
    "     - Comenta sobre las variables más significativas y su relevancia.\n",
    "\n",
    "8. **Modelos de Regresión para Diferenciar Volúmenes de Ventas:**\n",
    "   - **Uso de Datos:** Usa `AveragePrice`, `Total Volume`, `4046`, `4225`, y `4770`.\n",
    "   - **Esperado:** \n",
    "     - Ajusta modelos de regresión para analizar cómo los diferentes volúmenes de ventas afectan `AveragePrice`.\n",
    "     - Compara los resultados de regresión lineal y polinómica.\n",
    "     - Presenta las conclusiones de tus análisis.\n",
    "\n",
    "9. **Análisis de la Influencia de las Ventas Totales en el Precio Promedio:**\n",
    "   - **Uso de Datos:** Usa `Total Volume`, `AveragePrice`, y `Total Bags`.\n",
    "   - **Esperado:** \n",
    "     - Ajusta un modelo de regresión lineal y polinómica para ver cómo varía `AveragePrice` en función del volumen total de ventas.\n",
    "     - Evalúa la significancia de los coeficientes y discute su relevancia.\n",
    "\n",
    "10. **Regresión para Predecir el Precio Promedio Según el Volumen de Aguacates por Tipo:**\n",
    "    - **Uso de Datos:** Usa `AveragePrice`, `4046`, `4225`, `4770`, y `Total Volume`.\n",
    "    - **Esperado:** \n",
    "      - Ajusta modelos de regresión lineal y polinómica.\n",
    "      - Evalúa la efectividad de ambos modelos utilizando métricas como R² y RMSE.\n",
    "      - Discute cuál modelo ofrece mejores predicciones y por qué, basándote en los resultados obtenidos.\n",
    "\n",
    "\n"
   ]
  },
  {
   "cell_type": "code",
   "execution_count": 102,
   "id": "8ded54b9-74ee-4915-8e2f-7ee9dc585a93",
   "metadata": {},
   "outputs": [],
   "source": [
    "import pandas as pd\n",
    "import matplotlib.pyplot as plt\n",
    "from sklearn.linear_model import LinearRegression\n",
    "from sklearn.preprocessing import PolynomialFeatures\n",
    "from sklearn.pipeline import Pipeline\n",
    "from sklearn.pipeline import make_pipeline\n",
    "from sklearn.metrics import r2_score, mean_squared_error\n",
    "import numpy as np"
   ]
  },
  {
   "cell_type": "code",
   "execution_count": 3,
   "id": "cdd4e987-df25-424a-8c48-f8a64190f0f5",
   "metadata": {},
   "outputs": [],
   "source": [
    "#esto recarga el notebook para que se sincronice si hay cambios\n",
    "%load_ext autoreload\n",
    "%autoreload 2"
   ]
  },
  {
   "cell_type": "code",
   "execution_count": 4,
   "id": "e19d55a8-0849-4518-bfce-8cb8dc06cae9",
   "metadata": {},
   "outputs": [],
   "source": [
    "import sys\n",
    "import os\n",
    "\n",
    "# IMPORTANTE - asegurarse de que el path es el correcto, tiene que apuntar a la carpeta Tools (o equivalente si se le cambia el nombre, debería ser Tools)\n",
    "tools_path = os.path.abspath('./Tools')\n",
    "\n",
    "# Comprobar si existe la carpeta Tools\n",
    "if os.path.exists(tools_path):\n",
    "    sys.path.append(tools_path)\n",
    "else:\n",
    "    print(\"The Tools directory does not exist. Please check the path.\")\n",
    "# importamos toolkit.py\n",
    "try:\n",
    "    from toolkit import procesar_datos_avocado  \n",
    "    from toolkit import regresion_modelos\n",
    "    from toolkit import formatear_resultados\n",
    "except ImportError as e:  # Catch ImportError para ver si hay errores al importar\n",
    "    print(f\"ImportError: {e}. comprueba que 'process_dataset' exista en 'toolkit.py'.\")"
   ]
  },
  {
   "cell_type": "code",
   "execution_count": 5,
   "id": "0700813c-0ba8-4518-bc2a-613a0d0eaf73",
   "metadata": {},
   "outputs": [
    {
     "data": {
      "text/plain": [
       "\"\\n1.3 - Comparación de Precios Promedio Mensuales:\\n\\nUso de Datos: Usa las columnas AveragePrice y Date.\\nEsperado: Calcula y compara los precios promedio mensuales.\\nAgrupa los datos por mes usando pd.Grouper con freq='M'.\\nCalcula el promedio de AveragePrice para cada mes con mean().\\nVisualiza los resultados con un gráfico de líneas usando plt.plot().\\n\""
      ]
     },
     "execution_count": 5,
     "metadata": {},
     "output_type": "execute_result"
    }
   ],
   "source": [
    "'''\n",
    "1.3 - Comparación de Precios Promedio Mensuales:\n",
    "\n",
    "Uso de Datos: Usa las columnas AveragePrice y Date.\n",
    "Esperado: Calcula y compara los precios promedio mensuales.\n",
    "Agrupa los datos por mes usando pd.Grouper con freq='M'.\n",
    "Calcula el promedio de AveragePrice para cada mes con mean().\n",
    "Visualiza los resultados con un gráfico de líneas usando plt.plot().\n",
    "'''"
   ]
  },
  {
   "cell_type": "code",
   "execution_count": 6,
   "id": "167ca251-5ff6-4b75-ae06-64968ae406e6",
   "metadata": {},
   "outputs": [],
   "source": [
    "df = procesar_datos_avocado('./avocado.csv','B')\n",
    "df['Date'] = pd.to_datetime(df['Date'])\n",
    "df_clone = df.copy()"
   ]
  },
  {
   "cell_type": "code",
   "execution_count": 7,
   "id": "cde1a59d-86f4-46ca-b14e-717a4adff4f5",
   "metadata": {},
   "outputs": [
    {
     "data": {
      "image/png": "[encoded data removed]",
      "text/plain": [
       "<Figure size 640x480 with 1 Axes>"
      ]
     },
     "metadata": {},
     "output_type": "display_data"
    }
   ],
   "source": [
    "#agrupar por mes \n",
    "df['type'] = pd.to_numeric(df['type'], errors='coerce') \n",
    "\n",
    "df_monthly = df.groupby(pd.Grouper(key='Date',freq = 'ME')).agg({\n",
    "    'AveragePrice' : 'sum',  \n",
    "})\n",
    "promedio = df_monthly.mean()\n",
    "#print(df_monthly)\n",
    "df_monthly.plot(y='AveragePrice')\n",
    "plt.xlabel('Date')\n",
    "plt.ylabel('Average Price')\n",
    "plt.title('Average Price per Month')\n",
    "plt.show()"
   ]
  },
  {
   "cell_type": "code",
   "execution_count": 8,
   "id": "e25269ee-8492-43b6-ae63-e49bc982f1fb",
   "metadata": {},
   "outputs": [
    {
     "data": {
      "text/plain": [
       "'\\nTendencia de Ventas a lo Largo del Tiempo:\\n\\nUso de Datos: Usa las columnas Total Volume y Date.\\nEsperado: Analiza cómo varía el volumen total de ventas a lo largo del tiempo.\\nAgrupa los datos por Date y suma el Total Volume usando groupby().\\nVisualiza los resultados usando un gráfico de líneas con plt.plot() para mostrar la tendencia.\\n'"
      ]
     },
     "execution_count": 8,
     "metadata": {},
     "output_type": "execute_result"
    }
   ],
   "source": [
    "'''\n",
    "Tendencia de Ventas a lo Largo del Tiempo:\n",
    "\n",
    "Uso de Datos: Usa las columnas Total Volume y Date.\n",
    "Esperado: Analiza cómo varía el volumen total de ventas a lo largo del tiempo.\n",
    "Agrupa los datos por Date y suma el Total Volume usando groupby().\n",
    "Visualiza los resultados usando un gráfico de líneas con plt.plot() para mostrar la tendencia.\n",
    "'''"
   ]
  },
  {
   "cell_type": "code",
   "execution_count": 9,
   "id": "d462cde2-37c1-4811-a00a-c6be532cc702",
   "metadata": {},
   "outputs": [
    {
     "data": {
      "text/plain": [
       "<Axes: xlabel='Date'>"
      ]
     },
     "execution_count": 9,
     "metadata": {},
     "output_type": "execute_result"
    },
    {
     "data": {
      "image/png": "[encoded data removed]",
      "text/plain": [
       "<Figure size 640x480 with 1 Axes>"
      ]
     },
     "metadata": {},
     "output_type": "display_data"
    }
   ],
   "source": [
    "#tendencia de ventas\n",
    "df_yearly = df.groupby(pd.Grouper(key='Date',freq = 'ME')).agg({\n",
    "    'Total Volume' : 'sum', \n",
    "})\n",
    "df_yearly.plot(y = 'Total Volume')"
   ]
  },
  {
   "cell_type": "markdown",
   "id": "c04d56cc-00c2-4fce-b469-9e14ee75c419",
   "metadata": {},
   "source": [
    "'''\n",
    "5. Análisis de Correlación y Regresión\n",
    "Resumen: Se centra en la identificación de relaciones significativas entre las variables numéricas y el desarrollo de modelos de regresión para hacer predicciones basadas en esas relaciones.\n",
    "\n",
    "\n",
    "\n",
    "Análisis de Dispersión entre Variables Clave:\n",
    "\n",
    "Uso de Datos: Selecciona variables numéricas de interés como AveragePrice y Total Volume.\n",
    "Esperado:\n",
    "Importa las librerías necesarias: import seaborn as sns y import matplotlib.pyplot as plt.\n",
    "Crea un gráfico de dispersión con sns.scatterplot() para visualizar la relación entre AveragePrice y Total Volume.\n",
    "Añade una línea de regresión utilizando sns.regplot() para ilustrar las tendencias.\n",
    "Compara el ajuste de una regresión lineal frente a una polinómica.\n",
    "Predicciones Mensuales Usando Datos Trimestrales:\n",
    "\n",
    "Uso de Datos: Agrupa datos por trimestres y segmenta en meses utilizando Date, AveragePrice, y Total Volume.\n",
    "Esperado:\n",
    "Convierte la columna Date a tipo datetime si es necesario.\n",
    "Agrupa los datos por trimestre y calcula el promedio de AveragePrice y Total Volume.\n",
    "Utiliza los datos de los primeros 2 meses de un trimestre para predecir el precio del tercer mes.\n",
    "Compara los resultados de las predicciones con los precios reales.\n",
    "Evalúa la precisión de tus predicciones utilizando métricas como R² y RMSE.\n",
    "\n",
    "Predicciones Trimestrales:\n",
    "\n",
    "Uso de Datos: Agrupa los datos en trimestres usando solo variables numéricas.\n",
    "Esperado:\n",
    "Agrupa los datos por trimestres usando pd.Grouper() con freq='Q' para obtener promedios.\n",
    "Usa los datos de 1 o 2 trimestres anteriores para predecir el siguiente trimestre ajustando modelos de regresión lineal y polinómica.\n",
    "Compara los resultados de las predicciones con los precios reales.\n",
    "Evalúa la precisión de tus predicciones utilizando métricas como R² y RMSE.\n",
    "Predicciones Anuales:\n",
    "\n",
    "Uso de Datos: Agrupa los datos en años, utilizando únicamente columnas numéricas.\n",
    "Esperado:\n",
    "Agrupa los datos por año utilizando pd.Grouper() con freq='Y'.\n",
    "Usa los datos de 1 o 2 años anteriores para predecir el siguiente año ajustando modelos de regresión lineal y polinómica.\n",
    "Evalúa la precisión de tus predicciones utilizando métricas como R² y RMSE.\n",
    "Desarrollo de Modelos de Regresión Múltiple:\n",
    "\n",
    "Uso de Datos: Selecciona varias variables numéricas como Total Volume, 4046, 4225, 4770, y Total Bags para predecir AveragePrice.\n",
    "Esperado:\n",
    "Define las variables independientes (X) y dependientes (y).\n",
    "Ajusta modelos de regresión múltiple.\n",
    "Compara su rendimiento utilizando métricas como R² y RMSE y discute las implicaciones de los resultados.\n",
    "Análisis de Coeficientes de Regresión Múltiple:\n",
    "\n",
    "Uso de Datos: Examina los coeficientes de los modelos de regresión múltiple ajustados.\n",
    "Esperado:\n",
    "Extrae los coeficientes del modelo ajustado.\n",
    "Interpreta los coeficientes para entender el impacto de cada variable numérica en AveragePrice.\n",
    "Comenta sobre las variables más significativas y su relevancia.\n",
    "Modelos de Regresión para Diferenciar Volúmenes de Ventas:\n",
    "\n",
    "Uso de Datos: Usa AveragePrice, Total Volume, 4046, 4225, y 4770.\n",
    "Esperado:\n",
    "Ajusta modelos de regresión para analizar cómo los diferentes volúmenes de ventas afectan AveragePrice.\n",
    "Compara los resultados de regresión lineal y polinómica.\n",
    "Presenta las conclusiones de tus análisis.\n",
    "Análisis de la Influencia de las Ventas Totales en el Precio Promedio:\n",
    "\n",
    "Uso de Datos: Usa Total Volume, AveragePrice, y Total Bags.\n",
    "Esperado:\n",
    "Ajusta un modelo de regresión lineal y polinómica para ver cómo varía AveragePrice en función del volumen total de ventas.\n",
    "Evalúa la significancia de los coeficientes y discute su relevancia.\n",
    "Regresión para Predecir el Precio Promedio Según el Volumen de Aguacates por Tipo:\n",
    "\n",
    "Uso de Datos: Usa AveragePrice, 4046, 4225, 4770, y Total Volume.\n",
    "Esperado:\n",
    "Ajusta modelos de regresión lineal y polinómica.\n",
    "Evalúa la efectividad de ambos modelos utilizando métricas como R² y RMSE.\n",
    "Discute cuál modelo ofrece mejores predicciones y por qué, basándote en los resultados obtenidos.\n",
    "'''\n",
    "\n",
    "\n",
    "\n",
    "\n",
    "\n"
   ]
  },
  {
   "cell_type": "code",
   "execution_count": 11,
   "id": "2474d37d-5cba-4deb-9b24-97a926f99288",
   "metadata": {},
   "outputs": [
    {
     "data": {
      "text/plain": [
       "'\\nMatriz de Correlación: 5.1\\n\\nUso de Datos: Utiliza las columnas numéricas del DataFrame (p. ej., AveragePrice, Total Volume, 4046, 4225, 4770, Total Bags).\\nEsperado:\\nImporta las librerías necesarias: import seaborn as sns y import matplotlib.pyplot as plt.\\nCalcula la matriz de correlación usando el método .corr() del DataFrame.\\nVisualiza la matriz utilizando sns.heatmap().\\nAnota las correlaciones más significativas y discute su posible impacto en el análisis.\\n'"
      ]
     },
     "execution_count": 11,
     "metadata": {},
     "output_type": "execute_result"
    }
   ],
   "source": [
    "'''\n",
    "Matriz de Correlación: 5.1\n",
    "\n",
    "Uso de Datos: Utiliza las columnas numéricas del DataFrame (p. ej., AveragePrice, Total Volume, 4046, 4225, 4770, Total Bags).\n",
    "Esperado:\n",
    "Importa las librerías necesarias: import seaborn as sns y import matplotlib.pyplot as plt.\n",
    "Calcula la matriz de correlación usando el método .corr() del DataFrame.\n",
    "Visualiza la matriz utilizando sns.heatmap().\n",
    "Anota las correlaciones más significativas y discute su posible impacto en el análisis.\n",
    "'''\n",
    "\n",
    "\n"
   ]
  },
  {
   "cell_type": "code",
   "execution_count": 12,
   "id": "94d12e80-5b1c-4714-8c54-9d539341dcfc",
   "metadata": {},
   "outputs": [],
   "source": [
    "import seaborn as sns\n",
    "import matplotlib.pyplot as plt\n",
    "\n",
    "corr_matrix = df[['AveragePrice', 'Total Volume', '4046', '4225', '4770', 'Total Bags']].corr()\n"
   ]
  },
  {
   "cell_type": "code",
   "execution_count": 13,
   "id": "31469981-8db4-4d67-850d-1d3c6e2763d7",
   "metadata": {},
   "outputs": [
    {
     "data": {
      "image/png": "[encoded data removed]",
      "text/plain": [
       "<Figure size 1000x800 with 2 Axes>"
      ]
     },
     "metadata": {},
     "output_type": "display_data"
    }
   ],
   "source": [
    "plt.figure(figsize=(10, 8))\n",
    "sns.heatmap(corr_matrix, annot=True, cmap='coolwarm', vmin=-1, vmax=1, square=True)\n",
    "plt.title(\"Matriz de Correlación\")\n",
    "plt.show()\n"
   ]
  },
  {
   "cell_type": "code",
   "execution_count": 14,
   "id": "6098e353-d1b8-4931-b73f-81ed05d586c2",
   "metadata": {},
   "outputs": [
    {
     "data": {
      "text/plain": [
       "'\\nViendo el mapa de calor, vemos las siguientes correlaciones altas:\\n-Total Volume y Total Bags con 0.9\\n-Total Volume con 4046 0.87\\n-Total Volume con 4225 0.83\\n\\nEsto sugiere que puede haber una fuerte relación lineal entre esos campos.\\n'"
      ]
     },
     "execution_count": 14,
     "metadata": {},
     "output_type": "execute_result"
    }
   ],
   "source": [
    "'''\n",
    "Viendo el mapa de calor, vemos las siguientes correlaciones altas:\n",
    "-Total Volume y Total Bags con 0.9\n",
    "-Total Volume con 4046 0.87\n",
    "-Total Volume con 4225 0.83\n",
    "\n",
    "Esto sugiere que puede haber una fuerte relación lineal entre esos campos.\n",
    "'''"
   ]
  },
  {
   "cell_type": "code",
   "execution_count": 15,
   "id": "fbe74e9b-e334-4327-92f7-857c97e34cfd",
   "metadata": {},
   "outputs": [],
   "source": [
    "''' 5.2\n",
    "Uso de Datos: Agrupa datos por trimestres y segmenta en meses utilizando Date, AveragePrice, y Total Volume.\n",
    "Esperado:\n",
    "Convierte la columna Date a tipo datetime si es necesario.\n",
    "Agrupa los datos por trimestre y calcula el promedio de AveragePrice y Total Volume.\n",
    "Utiliza los datos de los primeros 2 meses de un trimestre para predecir el precio del tercer mes.\n",
    "Compara los resultados de las predicciones con los precios reales.\n",
    "Evalúa la precisión de tus predicciones utilizando métricas como R² y RMSE.\n",
    "'''\n",
    "\n",
    "#Agrupar los datos por trimestre\n",
    "df['Year'] = df['Date'].dt.year\n",
    "df['Quarter'] = df['Date'].dt.quarter\n",
    "quarterly_avg = df.groupby(['Year', 'Quarter']).agg({\n",
    "    'AveragePrice': 'mean',\n",
    "    'Total Volume': 'mean'\n",
    "}).reset_index()\n",
    "\n",
    "# Crear columna de mes y filtrar por trimestre\n",
    "df['Month'] = df['Date'].dt.month\n",
    "df['Quarter'] = df['Date'].dt.to_period('Q')\n",
    "\n",
    "# Seleccionar datos de los primeros dos meses de cada trimestre para promedios\n",
    "monthly_avg = df.groupby(['Year', 'Quarter', 'Month']).agg({\n",
    "    'AveragePrice': 'mean',\n",
    "    'Total Volume': 'mean'\n",
    "}).reset_index()\n",
    "\n",
    "#realizar prediccion precio promedio del tercer mes\n",
    "\n",
    "predictions = []\n",
    "actual_values = []\n",
    "\n",
    "for quarter in monthly_avg['Quarter'].unique():\n",
    "    # Seleccionar los primeros dos meses\n",
    "    quarter_data = monthly_avg[monthly_avg['Quarter'] == quarter]\n",
    "    if len(quarter_data) >= 3:\n",
    "        # Promedio de los primeros dos meses\n",
    "        avg_price_pred = quarter_data.iloc[:2]['AveragePrice'].mean()\n",
    "        # Valor real del tercer mes\n",
    "        avg_price_actual = quarter_data.iloc[2]['AveragePrice']\n",
    "        predictions.append(avg_price_pred)\n",
    "        actual_values.append(avg_price_actual)\n",
    "\n",
    "#print(\"Prediciones:\\n \",predictions,\"\\nValores actuales:\\n \", actual_values)\n"
   ]
  },
  {
   "cell_type": "code",
   "execution_count": null,
   "id": "4bd81cd7-2fef-4437-89f2-67944d44388f",
   "metadata": {},
   "outputs": [],
   "source": []
  },
  {
   "cell_type": "code",
   "execution_count": 16,
   "id": "8283f30f-ce5a-4cec-a921-2b28354f1e23",
   "metadata": {},
   "outputs": [
    {
     "name": "stdout",
     "output_type": "stream",
     "text": [
      "R²: 0.23245487981728286\n",
      "RMSE: 0.13193700337310427\n"
     ]
    },
    {
     "data": {
      "text/plain": [
       "'\\nAl ver las métricas, el valor de R2 es bajo, indica que alrededor de un 23% de la variabilidad del tercer mes está explicado por los dos primeros meses.\\nEsto sugiere:\\n-El modelo tiene capacidad predictiva limitada\\n-No se está capturando una gran parte de la variación del precio promedio\\n-Puede haber poca relación entre las variables, todo y que en la matriz de correlacion vemos que pueden tener una alta relacion lineal\\n-Puede que el modelo sea demasiado simple y haya que utilizar otro método de predicción\\n-puede que haya ruido en los datos, como mucha variabilidad o algún factor externo\\n'"
      ]
     },
     "execution_count": 16,
     "metadata": {},
     "output_type": "execute_result"
    }
   ],
   "source": [
    "#calcular metricas r2 y RMSE\n",
    "\n",
    "from sklearn.metrics import r2_score, mean_squared_error\n",
    "import numpy as np\n",
    "\n",
    "# R² y RMSE\n",
    "r2 = r2_score(actual_values, predictions)\n",
    "rmse = np.sqrt(mean_squared_error(actual_values, predictions))\n",
    "\n",
    "print(\"R²:\", r2)\n",
    "print(\"RMSE:\", rmse)\n",
    "'''\n",
    "Al ver las métricas, el valor de R2 es bajo, indica que alrededor de un 23% de la variabilidad del tercer mes está explicado por los dos primeros meses.\n",
    "Esto sugiere:\n",
    "-El modelo tiene capacidad predictiva limitada\n",
    "-No se está capturando una gran parte de la variación del precio promedio\n",
    "-Puede haber poca relación entre las variables, todo y que en la matriz de correlacion vemos que pueden tener una alta relacion lineal\n",
    "-Puede que el modelo sea demasiado simple y haya que utilizar otro método de predicción\n",
    "-puede que haya ruido en los datos, como mucha variabilidad o algún factor externo\n",
    "'''\n"
   ]
  },
  {
   "cell_type": "code",
   "execution_count": 17,
   "id": "ea9c6309-9baa-42a5-a132-ad1821cd79fc",
   "metadata": {},
   "outputs": [
    {
     "data": {
      "text/plain": [
       "\"\\n5.3 - Predicciones Trimestrales:\\n\\nUso de Datos: Agrupa los datos en trimestres usando solo variables numéricas.\\nEsperado:\\nAgrupa los datos por trimestres usando pd.Grouper() con freq='Q' para obtener promedios.\\nUsa los datos de 1 o 2 trimestres anteriores para predecir el siguiente trimestre ajustando modelos de regresión lineal y polinómica.\\nCompara los resultados de las predicciones con los precios reales.\\nEvalúa la precisión de tus predicciones utilizando métricas como R² y RMSE.\\n\""
      ]
     },
     "execution_count": 17,
     "metadata": {},
     "output_type": "execute_result"
    }
   ],
   "source": [
    "'''\n",
    "5.3 - Predicciones Trimestrales:\n",
    "\n",
    "Uso de Datos: Agrupa los datos en trimestres usando solo variables numéricas.\n",
    "Esperado:\n",
    "Agrupa los datos por trimestres usando pd.Grouper() con freq='Q' para obtener promedios.\n",
    "Usa los datos de 1 o 2 trimestres anteriores para predecir el siguiente trimestre ajustando modelos de regresión lineal y polinómica.\n",
    "Compara los resultados de las predicciones con los precios reales.\n",
    "Evalúa la precisión de tus predicciones utilizando métricas como R² y RMSE.\n",
    "'''"
   ]
  },
  {
   "cell_type": "code",
   "execution_count": 18,
   "id": "0472c447-4ca7-4739-b057-04aa736263df",
   "metadata": {
    "scrolled": true
   },
   "outputs": [
    {
     "name": "stdout",
     "output_type": "stream",
     "text": [
      "         Date  Unnamed: 0  AveragePrice  Total Volume           4046  \\\n",
      "0  2015-03-31        45.0      1.303269  2.003434e+06  838161.344567   \n",
      "1  2015-06-30        32.0      1.344087  2.200042e+06  965622.031202   \n",
      "2  2015-09-30        19.0      1.408798  2.007397e+06  750262.039231   \n",
      "3  2015-12-31         6.0      1.313654  1.756701e+06  580126.940962   \n",
      "4  2016-03-31        45.0      1.200481  2.347942e+06  716108.772404   \n",
      "5  2016-06-30        32.0      1.193317  2.493922e+06  811146.638173   \n",
      "6  2016-09-30        19.0      1.375962  2.179724e+06  750372.971827   \n",
      "7  2016-12-31         6.0      1.443077  1.724370e+06  553846.055048   \n",
      "8  2017-03-31        46.0      1.231731  2.477464e+06  842500.521779   \n",
      "9  2017-06-30        33.0      1.444087  2.408808e+06  826015.168990   \n",
      "10 2017-09-30        20.0      1.665192  1.998983e+06  679427.643798   \n",
      "11 2017-12-31         6.5      1.528661  1.931073e+06  660736.416473   \n",
      "12 2018-03-31         5.5      1.323281  2.727251e+06  925544.445156   \n",
      "\n",
      "             4225           4770     Total Bags     Small Bags     Large Bags  \\\n",
      "0   791894.787500   57363.672933  316014.183846  265783.493269   48880.537644   \n",
      "1   795675.287788   62661.670625  376083.001731  319535.201106   54947.744231   \n",
      "2   843038.158462   67793.324904  346303.126442  284055.458654   59567.553413   \n",
      "3   748182.578654   69918.900144  358472.142308  276919.893029   77289.576538   \n",
      "4   889657.565144  105243.636490  636932.023846  468580.185096  161693.324712   \n",
      "5   869236.781827  106180.944375  707357.330433  527473.132692  168587.409904   \n",
      "6   688787.814327   50590.867404  689972.517692  552738.818798  123236.265962   \n",
      "7   560190.960385   28499.072596  581833.463702  426439.587163  151167.400000   \n",
      "8   793303.143173   50391.843990  791268.620048  603787.774423  179676.162740   \n",
      "9   691114.995721   42538.433750  849139.351106  627869.736394  206787.752356   \n",
      "10  636251.950913   37965.419183  645307.813317  469981.030096  159907.761394   \n",
      "11  606853.018661   28481.050268  634980.591562  464643.988884  164773.728661   \n",
      "12  787244.819010   44441.112656  969994.511719  709702.209010  245795.575521   \n",
      "\n",
      "     XLarge Bags  type    year    Year      Month  \n",
      "0    1350.152933   NaN  2015.0  2015.0   2.076923  \n",
      "1    1600.056394   NaN  2015.0  2015.0   5.000000  \n",
      "2    2680.114375   NaN  2015.0  2015.0   8.000000  \n",
      "3    4262.672740   NaN  2015.0  2015.0  11.000000  \n",
      "4    6658.514038   NaN  2016.0  2016.0   1.923077  \n",
      "5   11296.787837   NaN  2016.0  2016.0   5.000000  \n",
      "6   13997.432933   NaN  2016.0  2016.0   7.923077  \n",
      "7    4226.476538   NaN  2016.0  2016.0  10.923077  \n",
      "8    7804.682885   NaN  2017.0  2017.0   1.923077  \n",
      "9   14481.862356   NaN  2017.0  2017.0   4.923077  \n",
      "10  15419.021827   NaN  2017.0  2017.0   7.923077  \n",
      "11   5562.874018   NaN  2017.0  2017.0  11.000000  \n",
      "12  14496.727188   NaN  2018.0  2018.0   2.000000   \n",
      " ----------- \n",
      "\n",
      "         Date  Unnamed: 0  AveragePrice  Total Volume           4046  \\\n",
      "0  2015-03-31        45.0      1.303269  2.003434e+06  838161.344567   \n",
      "1  2015-06-30        32.0      1.344087  2.200042e+06  965622.031202   \n",
      "2  2015-09-30        19.0      1.408798  2.007397e+06  750262.039231   \n",
      "3  2015-12-31         6.0      1.313654  1.756701e+06  580126.940962   \n",
      "4  2016-03-31        45.0      1.200481  2.347942e+06  716108.772404   \n",
      "5  2016-06-30        32.0      1.193317  2.493922e+06  811146.638173   \n",
      "6  2016-09-30        19.0      1.375962  2.179724e+06  750372.971827   \n",
      "7  2016-12-31         6.0      1.443077  1.724370e+06  553846.055048   \n",
      "8  2017-03-31        46.0      1.231731  2.477464e+06  842500.521779   \n",
      "9  2017-06-30        33.0      1.444087  2.408808e+06  826015.168990   \n",
      "10 2017-09-30        20.0      1.665192  1.998983e+06  679427.643798   \n",
      "11 2017-12-31         6.5      1.528661  1.931073e+06  660736.416473   \n",
      "12 2018-03-31         5.5      1.323281  2.727251e+06  925544.445156   \n",
      "\n",
      "             4225           4770     Total Bags     Small Bags     Large Bags  \\\n",
      "0   791894.787500   57363.672933  316014.183846  265783.493269   48880.537644   \n",
      "1   795675.287788   62661.670625  376083.001731  319535.201106   54947.744231   \n",
      "2   843038.158462   67793.324904  346303.126442  284055.458654   59567.553413   \n",
      "3   748182.578654   69918.900144  358472.142308  276919.893029   77289.576538   \n",
      "4   889657.565144  105243.636490  636932.023846  468580.185096  161693.324712   \n",
      "5   869236.781827  106180.944375  707357.330433  527473.132692  168587.409904   \n",
      "6   688787.814327   50590.867404  689972.517692  552738.818798  123236.265962   \n",
      "7   560190.960385   28499.072596  581833.463702  426439.587163  151167.400000   \n",
      "8   793303.143173   50391.843990  791268.620048  603787.774423  179676.162740   \n",
      "9   691114.995721   42538.433750  849139.351106  627869.736394  206787.752356   \n",
      "10  636251.950913   37965.419183  645307.813317  469981.030096  159907.761394   \n",
      "11  606853.018661   28481.050268  634980.591562  464643.988884  164773.728661   \n",
      "12  787244.819010   44441.112656  969994.511719  709702.209010  245795.575521   \n",
      "\n",
      "     XLarge Bags  type    year    Year      Month  Previous_AveragePrice  \\\n",
      "0    1350.152933   NaN  2015.0  2015.0   2.076923                    NaN   \n",
      "1    1600.056394   NaN  2015.0  2015.0   5.000000               1.303269   \n",
      "2    2680.114375   NaN  2015.0  2015.0   8.000000               1.344087   \n",
      "3    4262.672740   NaN  2015.0  2015.0  11.000000               1.408798   \n",
      "4    6658.514038   NaN  2016.0  2016.0   1.923077               1.313654   \n",
      "5   11296.787837   NaN  2016.0  2016.0   5.000000               1.200481   \n",
      "6   13997.432933   NaN  2016.0  2016.0   7.923077               1.193317   \n",
      "7    4226.476538   NaN  2016.0  2016.0  10.923077               1.375962   \n",
      "8    7804.682885   NaN  2017.0  2017.0   1.923077               1.443077   \n",
      "9   14481.862356   NaN  2017.0  2017.0   4.923077               1.231731   \n",
      "10  15419.021827   NaN  2017.0  2017.0   7.923077               1.444087   \n",
      "11   5562.874018   NaN  2017.0  2017.0  11.000000               1.665192   \n",
      "12  14496.727188   NaN  2018.0  2018.0   2.000000               1.528661   \n",
      "\n",
      "    Previous_TotalVolume  \n",
      "0                    NaN  \n",
      "1           2.003434e+06  \n",
      "2           2.200042e+06  \n",
      "3           2.007397e+06  \n",
      "4           1.756701e+06  \n",
      "5           2.347942e+06  \n",
      "6           2.493922e+06  \n",
      "7           2.179724e+06  \n",
      "8           1.724370e+06  \n",
      "9           2.477464e+06  \n",
      "10          2.408808e+06  \n",
      "11          1.998983e+06  \n",
      "12          1.931073e+06   \n",
      " ----------- \n",
      "\n"
     ]
    }
   ],
   "source": [
    "# Agrupa por trimestres y calcula el promedio solo de las columnas numéricas\n",
    "quarterly_data = df.set_index('Date').resample('QE')[df.select_dtypes(include='number').columns].mean().reset_index()\n",
    "print(quarterly_data,\"\\n ----------- \\n\")\n",
    "# Desplazamos los datos hacia abajo para obtener las observaciones previas !!!!!!\n",
    "quarterly_data['Previous_AveragePrice'] = quarterly_data['AveragePrice'].shift(1)\n",
    "quarterly_data['Previous_TotalVolume'] = quarterly_data['Total Volume'].shift(1)\n",
    "print(quarterly_data,\"\\n ----------- \\n\")\n",
    "# Eliminar filas con valores NaN resultantes del desplazamiento\n",
    "quarterly_data = quarterly_data.iloc[1:]\n",
    "#quarterly_data = quarterly_data.dropna()\n",
    "#preparamos la X e y del modelo\n",
    "X = quarterly_data[['Previous_AveragePrice', 'Previous_TotalVolume']] # !!!!! probar sin previous totalvolume\n",
    "y = quarterly_data['AveragePrice']\n",
    "\n",
    "\n",
    "\n"
   ]
  },
  {
   "cell_type": "code",
   "execution_count": 19,
   "id": "d70ae9e0-32aa-4faa-b81b-ec4d0b8c10f9",
   "metadata": {},
   "outputs": [],
   "source": [
    "# Modelo de regresión lineal\n",
    "linear_model = LinearRegression()\n",
    "linear_model.fit(X, y)\n",
    "y_pred_linear = linear_model.predict(X)\n",
    "\n",
    "# Modelo de regresión polinómica (grado 2) !!!! preguntar qué es exactamente\n",
    "poly_model = make_pipeline(PolynomialFeatures(degree=2), LinearRegression())\n",
    "poly_model.fit(X, y)\n",
    "y_pred_poly = poly_model.predict(X)"
   ]
  },
  {
   "cell_type": "code",
   "execution_count": 20,
   "id": "b4b1aecf-aac6-449c-9e3a-f30ea0cf53d5",
   "metadata": {},
   "outputs": [
    {
     "name": "stdout",
     "output_type": "stream",
     "text": [
      "Modelo Lineal - R²: 0.7478891609027221 RMSE: 0.0663742568607204\n",
      "Modelo Polinómico - R²: 0.8939270094299655 RMSE: 0.04305328751036066\n"
     ]
    },
    {
     "data": {
      "text/plain": [
       "'\\nun r2 de 0.894 indica que casi el 89.4% de la variabilidad en el precio promedio se explica por el modelo.\\nun RMSE 0.043 indice que el error promedio de predicción es pequeño.\\n\\nQue el modelo polinómico tenga un r2 más alto y un rmse más bajo  que los del lineal da a entender que la relación entre variables es no lineal.\\nEs decir, el modelo polinómico es el más adecuado para este conjunto de datos.\\n'"
      ]
     },
     "execution_count": 20,
     "metadata": {},
     "output_type": "execute_result"
    }
   ],
   "source": [
    "# Evaluación para el modelo lineal\n",
    "r2_linear = r2_score(y, y_pred_linear)\n",
    "rmse_linear = np.sqrt(mean_squared_error(y, y_pred_linear))\n",
    "\n",
    "# Evaluación para el modelo polinómico\n",
    "r2_poly = r2_score(y, y_pred_poly)\n",
    "rmse_poly = np.sqrt(mean_squared_error(y, y_pred_poly))\n",
    "\n",
    "print(\"Modelo Lineal - R²:\", r2_linear, \"RMSE:\", rmse_linear)\n",
    "print(\"Modelo Polinómico - R²:\", r2_poly, \"RMSE:\", rmse_poly)\n",
    "\n",
    "'''\n",
    "un r2 de 0.894 indica que casi el 89.4% de la variabilidad en el precio promedio se explica por el modelo.\n",
    "un RMSE 0.043 indice que el error promedio de predicción es pequeño.\n",
    "\n",
    "Que el modelo polinómico tenga un r2 más alto y un rmse más bajo  que los del lineal da a entender que la relación entre variables es no lineal.\n",
    "Es decir, el modelo polinómico es el más adecuado para este conjunto de datos.\n",
    "'''"
   ]
  },
  {
   "cell_type": "code",
   "execution_count": 21,
   "id": "da4abab9-fc4b-4cdf-863c-a69f39087d8e",
   "metadata": {},
   "outputs": [],
   "source": [
    "'''\n",
    "5.4 - Predicciones Anuales:\n",
    "\n",
    "Uso de Datos: Agrupa los datos en años, utilizando únicamente columnas numéricas.\n",
    "Esperado:\n",
    "Agrupa los datos por año utilizando pd.Grouper() con freq='Y'.\n",
    "Usa los datos de 1 o 2 años anteriores para predecir el siguiente año ajustando modelos de regresión lineal y polinómica.\n",
    "Evalúa la precisión de tus predicciones utilizando métricas como R² y RMSE.\n",
    "'''\n",
    "# Agrupa por años y calcula el promedio solo de las columnas numéricas\n",
    "yearly_data = df.set_index('Date').resample('YE')[df.select_dtypes(include='number').columns].mean().reset_index()\n",
    "#print(yearly_data,\"\\n ----------- \\n\")\n",
    "# Desplazamos los datos hacia abajo para obtener las observaciones previas\n",
    "yearly_data['Previous_AveragePrice'] = yearly_data['AveragePrice'].shift(1)\n",
    "yearly_data['Previous_TotalVolume'] = yearly_data['Total Volume'].shift(1)\n",
    "\n",
    "# Eliminar filas con valores NaN resultantes del desplazamiento\n",
    "yearly_data = yearly_data.iloc[1:]\n",
    "#quarterly_data = quarterly_data.dropna()\n",
    "#preparamos la X e y del modelo\n",
    "#print(yearly_data,\"\\n ----------- \\n\")\n",
    "X = yearly_data[['Previous_AveragePrice', 'Previous_TotalVolume']]\n",
    "y = yearly_data['AveragePrice']\n",
    "\n"
   ]
  },
  {
   "cell_type": "code",
   "execution_count": 104,
   "id": "2e3d8a57-ad6c-48fe-9d70-dc7fa108bc4d",
   "metadata": {},
   "outputs": [
    {
     "name": "stdout",
     "output_type": "stream",
     "text": [
      "Modelo Lineal por año- R²: 0.5472658131833227 RMSE: 0.23521120732470197\n",
      "Modelo Polinómico por año - R²: 0.572637971840217 RMSE: 0.2285253232520478\n"
     ]
    },
    {
     "data": {
      "text/plain": [
       "'\\nConclusiones ya que r2 es 1 y el rmse es un número muy pequeño(casi 0)\\n-Sugiere un ajuste perfecto, podría ser que los datos de entrenamiento y de prueba estén altamente correlacionadas\\n-Sugiere que puede que las variables predictoras ( años anteriores) tengan dependencia directa con la variable de respuesta\\n\\nPruebas que se podrían hacer para comprobar si los resultados son generalizables:\\n-Evaluar con un conjunto de prueba\\n-Reducir el grado del modelo polinómico\\n\\n'"
      ]
     },
     "execution_count": 104,
     "metadata": {},
     "output_type": "execute_result"
    }
   ],
   "source": [
    "\n",
    "#Modelo de regresión lineal\n",
    "linear_model = LinearRegression()\n",
    "linear_model.fit(X, y)\n",
    "y_pred_linear = linear_model.predict(X)\n",
    "\n",
    "#Modelo de regresión polinómica (grado 2)\n",
    "poly_model = make_pipeline(PolynomialFeatures(degree=2), LinearRegression())\n",
    "poly_model.fit(X, y)\n",
    "y_pred_poly = poly_model.predict(X)\n",
    "\n",
    "#Evaluación para el modelo lineal\n",
    "r2_linear = r2_score(y,y_pred_linear)\n",
    "rmse_linear = np.sqrt(mean_squared_error(y,y_pred_linear))\n",
    "\n",
    "#Evaluación para el modelo polinómico\n",
    "r2_poly = r2_score(y, y_pred_poly)\n",
    "rmse_poly = np.sqrt(mean_squared_error(y, y_pred_poly))\n",
    "\n",
    "\n",
    "print(\"Modelo Lineal por año- R²:\", r2_linear, \"RMSE:\", rmse_linear)\n",
    "print(\"Modelo Polinómico por año - R²:\", r2_poly, \"RMSE:\", rmse_poly)\n",
    "\n",
    "\n",
    "\n",
    "'''\n",
    "Conclusiones ya que r2 es 1 y el rmse es un número muy pequeño(casi 0)\n",
    "-Sugiere un ajuste perfecto, podría ser que los datos de entrenamiento y de prueba estén altamente correlacionadas\n",
    "-Sugiere que puede que las variables predictoras ( años anteriores) tengan dependencia directa con la variable de respuesta\n",
    "\n",
    "Pruebas que se podrían hacer para comprobar si los resultados son generalizables:\n",
    "-Evaluar con un conjunto de prueba\n",
    "-Reducir el grado del modelo polinómico\n",
    "\n",
    "'''\n"
   ]
  },
  {
   "cell_type": "code",
   "execution_count": 106,
   "id": "169fd46d-a24c-48f7-b078-3f011fc0b8a3",
   "metadata": {},
   "outputs": [],
   "source": [
    "'''\n",
    "5.5 - Desarrollo de Modelos de Regresión Múltiple:\n",
    "\n",
    "Uso de Datos: Selecciona varias variables numéricas como Total Volume, 4046, 4225, 4770, y Total Bags para predecir AveragePrice.\n",
    "Esperado:\n",
    "Define las variables independientes (X) y dependientes (y).\n",
    "Ajusta modelos de regresión múltiple.\n",
    "Compara su rendimiento utilizando métricas como R² y RMSE y discute las implicaciones de los resultados.\n",
    "'''\n",
    "\n",
    "# Definir las variables independientes (X) y la variable dependiente (y)\n",
    "X = df[['Total Volume', '4046', '4225', '4770', 'Total Bags']]\n",
    "y = df['AveragePrice']\n",
    "\n",
    "linear_model = LinearRegression()\n",
    "linear_model.fit(X,y)\n",
    "y_pred_linear = linear_model.predict(X)\n",
    "\n"
   ]
  },
  {
   "cell_type": "code",
   "execution_count": 122,
   "id": "867f9d33-2865-456f-8046-3ede6ce28b80",
   "metadata": {},
   "outputs": [
    {
     "name": "stdout",
     "output_type": "stream",
     "text": [
      "Modelo de Regresión Múltiple Lineal - R²: 0.5472726729669555 RMSE: 0.23520942536947395\n",
      "Modelo de Regresión Múltiple Polinómico - R²: 0.5737655915099885 RMSE: 0.22822363540957347\n"
     ]
    }
   ],
   "source": [
    "# Ajustar el modelo de regresión polinómica (grado 2)\n",
    "poly_model = make_pipeline(PolynomialFeatures(degree=2), LinearRegression())\n",
    "poly_model.fit(X, y)\n",
    "y_pred_poly = poly_model.predict(X)\n",
    "\n",
    "#Evaluación para el modelo lineal\n",
    "r2_linear = r2_score(y,y_pred_linear)\n",
    "rmse_linear = np.sqrt(mean_squared_error(y,y_pred_linear))\n",
    "\n",
    "#Evaluación para el modelo polinómico\n",
    "r2_poly = r2_score(y, y_pred_poly)\n",
    "rmse_poly = np.sqrt(mean_squared_error(y, y_pred_poly))\n",
    "\n",
    "print(\"Modelo de Regresión Múltiple Lineal - R²:\", r2_linear, \"RMSE:\", rmse_linear)\n",
    "print(\"Modelo de Regresión Múltiple Polinómico - R²:\", r2_poly, \"RMSE:\", rmse_poly)"
   ]
  },
  {
   "cell_type": "code",
   "execution_count": 25,
   "id": "e907cebd-752d-4d5b-8f14-d80e02cfd3a1",
   "metadata": {},
   "outputs": [
    {
     "data": {
      "text/plain": [
       "'\\nYa que el R2 y RMSE son muy bajos en ambos modelos, esto sugiere:\\n-Ninguno de los modelos capturan de manera efectiva la relación entre las variables y el precio promedio\\n-ya que el r2 es más alto y el RMSE es más bajo, esto también indica que en caso de tener que usarlo el polinómico sería preferible\\n\\nImplicaciones\\n-Habría que probar otras características que estén relacionadas con AveragePrice\\n-Interacciones entre variables o transformaciones que podrían mejorar el ajuste.\\n    -Podríamos crear una variable de interacción haciendo el producto de dos variables y añadirla al modelo\\n    -Podríamos aplicar transformaciones logaritmicas, polinómicas o normalizarlo\\n    \\n-Usar técnicas de selección de características para identificar las variables más relevantes.\\n    -Podríamos eliminar las variables con menor impacto\\n    -Seleccion hacia adelante, comenzar sin variables e ir agregando hasta que el modelo deje de cambiar significativamente\\n    -Regularizar con Lasso o Ridge\\n\\nEn resumen, el modelo polinómico parece ofrecer una ligera mejora sobre el modelo lineal en términos de ajuste y precisión.\\nSin embargo, ambos modelos muestran que la relación entre las variables seleccionadas y el precio promedio puede ser más complicada y requerir \\nuna exploración más profunda para entender mejor los factores que influyen en AveragePrice.\\n\\n'"
      ]
     },
     "execution_count": 25,
     "metadata": {},
     "output_type": "execute_result"
    }
   ],
   "source": [
    "'''\n",
    "Ya que el R2 y RMSE son muy bajos en ambos modelos, esto sugiere:\n",
    "-Ninguno de los modelos capturan de manera efectiva la relación entre las variables y el precio promedio\n",
    "-ya que el r2 es más alto y el RMSE es más bajo, esto también indica que en caso de tener que usarlo el polinómico sería preferible\n",
    "\n",
    "Implicaciones\n",
    "-Habría que probar otras características que estén relacionadas con AveragePrice\n",
    "-Interacciones entre variables o transformaciones que podrían mejorar el ajuste.\n",
    "    -Podríamos crear una variable de interacción haciendo el producto de dos variables y añadirla al modelo\n",
    "    -Podríamos aplicar transformaciones logaritmicas, polinómicas o normalizarlo\n",
    "    \n",
    "-Usar técnicas de selección de características para identificar las variables más relevantes.\n",
    "    -Podríamos eliminar las variables con menor impacto\n",
    "    -Seleccion hacia adelante, comenzar sin variables e ir agregando hasta que el modelo deje de cambiar significativamente\n",
    "    -Regularizar con Lasso o Ridge\n",
    "\n",
    "En resumen, el modelo polinómico parece ofrecer una ligera mejora sobre el modelo lineal en términos de ajuste y precisión.\n",
    "Sin embargo, ambos modelos muestran que la relación entre las variables seleccionadas y el precio promedio puede ser más complicada y requerir \n",
    "una exploración más profunda para entender mejor los factores que influyen en AveragePrice.\n",
    "\n",
    "'''\n"
   ]
  },
  {
   "cell_type": "code",
   "execution_count": 26,
   "id": "99a65e8e-f092-4c47-a627-e888d1c3e64c",
   "metadata": {},
   "outputs": [
    {
     "data": {
      "text/plain": [
       "'\\n5.6 - Análisis de Coeficientes de Regresión Múltiple:\\n\\nUso de Datos: Examina los coeficientes de los modelos de regresión múltiple ajustados.\\nEsperado:\\nExtrae los coeficientes del modelo ajustado.\\nInterpreta los coeficientes para entender el impacto de cada variable numérica en AveragePrice.\\nComenta sobre las variables más significativas y su relevancia.\\n'"
      ]
     },
     "execution_count": 26,
     "metadata": {},
     "output_type": "execute_result"
    }
   ],
   "source": [
    "'''\n",
    "5.6 - Análisis de Coeficientes de Regresión Múltiple:\n",
    "\n",
    "Uso de Datos: Examina los coeficientes de los modelos de regresión múltiple ajustados.\n",
    "Esperado:\n",
    "Extrae los coeficientes del modelo ajustado.\n",
    "Interpreta los coeficientes para entender el impacto de cada variable numérica en AveragePrice.\n",
    "Comenta sobre las variables más significativas y su relevancia.\n",
    "'''"
   ]
  },
  {
   "cell_type": "code",
   "execution_count": 116,
   "id": "5048908b-03a9-4816-95cd-1f0e424d89a2",
   "metadata": {},
   "outputs": [
    {
     "name": "stdout",
     "output_type": "stream",
     "text": [
      "Coeficientes del Modelo Lineal:\n",
      "Total Volume   -0.00001\n",
      "4046            0.00001\n",
      "4225            0.00001\n",
      "4770            0.00001\n",
      "Total Bags      0.00001\n",
      "dtype: float64\n",
      "Rango de valores en X:\n",
      "       Total Volume          4046          4225           4770    Total Bags\n",
      "count  2.704000e+03  2.704000e+03  2.704000e+03    2704.000000  2.704000e+03\n",
      "mean   2.168913e+06  7.599616e+05  7.451966e+05   57757.096324  6.059914e+05\n",
      "std    2.396173e+06  1.070172e+06  9.124923e+05  106629.679927  7.228154e+05\n",
      "min    2.198687e+04  9.077800e+02  2.648960e+03       0.000000  2.485950e+03\n",
      "25%    1.072039e+05  9.403218e+03  3.215374e+04      97.945000  4.835379e+04\n",
      "50%    9.262014e+05  9.377846e+04  2.092889e+05    4382.895000  2.515642e+05\n",
      "75%    3.904138e+06  1.229129e+06  1.352607e+06   79841.482500  9.800599e+05\n",
      "max    1.127475e+07  5.160897e+06  5.402444e+06  804558.250000  4.145407e+06\n",
      "Rango de valores en y:\n",
      "count    2704.000000\n",
      "mean        1.368569\n",
      "std         0.349636\n",
      "min         0.620000\n",
      "25%         1.090000\n",
      "50%         1.360000\n",
      "75%         1.630000\n",
      "max         2.580000\n",
      "Name: AveragePrice, dtype: float64\n"
     ]
    }
   ],
   "source": [
    "#extracción coef. regresion modelo lineal\n",
    "coef_linear = pd.Series(linear_model.coef_, index=X.columns)\n",
    "print(\"Coeficientes del Modelo Lineal:\")\n",
    "print(coef_linear)\n",
    "print(\"Rango de valores en X:\")\n",
    "print(X.describe())\n",
    "print(\"Rango de valores en y:\")\n",
    "print(y.describe())"
   ]
  },
  {
   "cell_type": "code",
   "execution_count": null,
   "id": "6ed7cc5e-c108-4848-838c-1996ef9c7423",
   "metadata": {},
   "outputs": [],
   "source": [
    "'''\n",
    "Vemos que aparece un valor de coeficinete muy pequeño, así que vamos a intentar aplicar un escalado a los datos para que las variables tengan una media similar.\n",
    "Esto debería hacer que los coeficientes se interpreten en una escala variable.\n",
    "'''"
   ]
  },
  {
   "cell_type": "code",
   "execution_count": 128,
   "id": "d220da66-97a5-4c51-bbd3-585c6f889cba",
   "metadata": {},
   "outputs": [
    {
     "name": "stdout",
     "output_type": "stream",
     "text": [
      "Coeficientes del Modelo Lineal (escalado):\n",
      "Total Volume   -24.785723\n",
      "4046            10.901144\n",
      "4225             9.365150\n",
      "4770             1.053264\n",
      "Total Bags       7.458021\n",
      "dtype: float64\n"
     ]
    }
   ],
   "source": [
    "from sklearn.preprocessing import StandardScaler\n",
    "from sklearn.linear_model import LinearRegression\n",
    "\n",
    "scaler = StandardScaler()\n",
    "X_scaled = scaler.fit_transform(df[['Total Volume', '4046', '4225', '4770', 'Total Bags']])\n",
    "y = df['AveragePrice']\n",
    "\n",
    "# Ajustar el modelo escalado\n",
    "linear_model = LinearRegression()\n",
    "linear_model.fit(X_scaled, y)\n",
    "\n",
    "# Obtener los coeficientes en la escala estandarizada\n",
    "coef_linear_scaled = pd.Series(linear_model.coef_, index=['Total Volume', '4046', '4225', '4770', 'Total Bags'])\n",
    "print(\"Coeficientes del Modelo Lineal (escalado):\")\n",
    "print(coef_linear_scaled)"
   ]
  },
  {
   "cell_type": "code",
   "execution_count": 126,
   "id": "7ab0a154-f345-40d7-b7e5-59cce091bdf2",
   "metadata": {},
   "outputs": [
    {
     "name": "stdout",
     "output_type": "stream",
     "text": [
      "Coeficientes del Modelo Polinómico con escalado:\n",
      "1                               0.000000\n",
      "Total Volume                 2572.128784\n",
      "4046                        -1149.061715\n",
      "4225                         -979.632153\n",
      "4770                         -114.409163\n",
      "Total Bags                   -775.827713\n",
      "Total Volume^2             235937.056551\n",
      "Total Volume 4046         -219911.837146\n",
      "Total Volume 4225         -177503.641024\n",
      "Total Volume 4770           12735.558921\n",
      "Total Volume Total Bags   -158062.037993\n",
      "4046^2                      51154.808751\n",
      "4046 4225                   82766.265137\n",
      "4046 4770                   -5280.059622\n",
      "4046 Total Bags             73357.797194\n",
      "4225^2                      33380.466960\n",
      "4225 4770                   -4947.386529\n",
      "4225 Total Bags             59530.796696\n",
      "4770^2                      -1033.955052\n",
      "4770 Total Bags             -3142.238857\n",
      "Total Bags^2                26210.897795\n",
      "dtype: float64\n"
     ]
    }
   ],
   "source": [
    "# Escalar las variables independientes\n",
    "scaler = StandardScaler()\n",
    "X_scaled = scaler.fit_transform(X)\n",
    "\n",
    "# Ajustar el modelo polinómico con los datos escalados\n",
    "poly_features = PolynomialFeatures(degree=2)\n",
    "X_poly_scaled = poly_features.fit_transform(X_scaled)\n",
    "poly_model = LinearRegression()\n",
    "poly_model.fit(X_poly_scaled, y)\n",
    "\n",
    "# Extraer los coeficientes\n",
    "coef_poly = pd.Series(poly_model.coef_, index=poly_features.get_feature_names_out(X.columns))\n",
    "print(\"Coeficientes del Modelo Polinómico con escalado:\")\n",
    "print(coef_poly)"
   ]
  },
  {
   "cell_type": "code",
   "execution_count": 132,
   "id": "cd2254c3-0cf0-40b5-872d-d63c54f47d83",
   "metadata": {},
   "outputs": [
    {
     "name": "stdout",
     "output_type": "stream",
     "text": [
      "Variables más significativas del Modelo Lineal:\n",
      "Total Volume    24.785723\n",
      "4046            10.901144\n",
      "4225             9.365150\n",
      "Total Bags       7.458021\n",
      "4770             1.053264\n",
      "dtype: float64\n",
      "Variables más significativas del Modelo Polinómico:\n",
      "Total Volume^2             235937.056551\n",
      "Total Volume 4046          219911.837146\n",
      "Total Volume 4225          177503.641024\n",
      "Total Volume Total Bags    158062.037993\n",
      "4046 4225                   82766.265137\n",
      "4046 Total Bags             73357.797194\n",
      "4225 Total Bags             59530.796696\n",
      "4046^2                      51154.808751\n",
      "4225^2                      33380.466960\n",
      "Total Bags^2                26210.897795\n",
      "Total Volume 4770           12735.558921\n",
      "4046 4770                    5280.059622\n",
      "4225 4770                    4947.386529\n",
      "4770 Total Bags              3142.238857\n",
      "Total Volume                 2572.128784\n",
      "4046                         1149.061715\n",
      "4770^2                       1033.955052\n",
      "4225                          979.632153\n",
      "Total Bags                    775.827713\n",
      "4770                          114.409163\n",
      "1                               0.000000\n",
      "dtype: float64\n"
     ]
    }
   ],
   "source": [
    "#Después de obtener los coeficientes,calculamos el valor absoluto de cada coeficiente para identificar qué variables tienen el mayor impacto en AveragePrice.\n",
    "\n",
    "# Ordenar los coeficientes para que salgan en orden de significancia/impacto\n",
    "sorted_coef_linear = coef_linear_scaled.abs().sort_values(ascending=False)\n",
    "sorted_coef_poly = coef_poly.abs().sort_values(ascending=False)\n",
    "\n",
    "print(\"Variables más significativas del Modelo Lineal:\")\n",
    "print(sorted_coef_linear)\n",
    "\n",
    "print(\"Variables más significativas del Modelo Polinómico:\")\n",
    "print(sorted_coef_poly)"
   ]
  },
  {
   "cell_type": "code",
   "execution_count": 134,
   "id": "dbaf98f8-5e6d-4649-861c-42484cffde25",
   "metadata": {},
   "outputs": [
    {
     "data": {
      "text/plain": [
       "'\\nSabiendo que un coeficiente positivo significa que a medida que aumenta la variable AveragePrice tiende a aumentar y \\nun coeficiente negativo según aumenta la variable, disminuye el AveragePrice.\\n\\nPor ejemplo, Total Volume tiene un coeficiente positivo 2572.13, lo que sugiere que mayores volúmenes totales de venta se asocian con un incremento \\nen el precio promedio,aunque este efecto debe evaluarse en conjunto con otros términos polinómicos.\\nPuntos a considerar:\\n'"
      ]
     },
     "execution_count": 134,
     "metadata": {},
     "output_type": "execute_result"
    }
   ],
   "source": [
    "'''\n",
    "Sabiendo que un coeficiente positivo significa que a medida que aumenta la variable AveragePrice tiende a aumentar y \n",
    "un coeficiente negativo según aumenta la variable, disminuye el AveragePrice.\n",
    "\n",
    "Por ejemplo, Total Volume tiene un coeficiente positivo 2572.13, lo que sugiere que mayores volúmenes totales de venta se asocian con un incremento \n",
    "en el precio promedio,aunque este efecto debe evaluarse en conjunto con otros términos polinómicos.\n",
    "Puntos a considerar:\n",
    "-El coeficiente de Total Volume 4046 es negativo, lo que indica que la interacción entre Total Volume y 4046 tiene un efecto de disminución \n",
    "en AveragePrice.\n",
    "-Las interacciones positivas como 4046 4225 sugieren que ciertos tipos de productos pueden influir de manera conjunta en el precio promedio.\n",
    "-Los términos cuadráticos Total Volume^2, 4046^2... reflejan relaciones no lineales. Por ejemplo, Total Volume^2 tiene un coeficiente positivo bastante alto 235937.06, \n",
    "lo que puede indicar que un aumento en Total Volume tiene un efecto creciente en el AveragePrice, pero a un ritmo acelerado.\n",
    "'''"
   ]
  },
  {
   "cell_type": "code",
   "execution_count": 31,
   "id": "8c121db5-dc4b-44e0-8d22-f4b323901b31",
   "metadata": {},
   "outputs": [
    {
     "data": {
      "text/plain": [
       "'\\n5.8 - Modelos de Regresión para Diferenciar Volúmenes de Ventas:\\n\\nUso de Datos: Usa AveragePrice, Total Volume, 4046, 4225, y 4770.\\nEsperado:\\nAjusta modelos de regresión para analizar cómo los diferentes volúmenes de ventas afectan AveragePrice.\\nCompara los resultados de regresión lineal y polinómica.\\nPresenta las conclusiones de tus análisis.\\n'"
      ]
     },
     "execution_count": 31,
     "metadata": {},
     "output_type": "execute_result"
    }
   ],
   "source": [
    "'''\n",
    "5.8 - Modelos de Regresión para Diferenciar Volúmenes de Ventas:\n",
    "\n",
    "Uso de Datos: Usa AveragePrice, Total Volume, 4046, 4225, y 4770.\n",
    "Esperado:\n",
    "Ajusta modelos de regresión para analizar cómo los diferentes volúmenes de ventas afectan AveragePrice.\n",
    "Compara los resultados de regresión lineal y polinómica.\n",
    "Presenta las conclusiones de tus análisis.\n",
    "'''\n"
   ]
  },
  {
   "cell_type": "code",
   "execution_count": 146,
   "id": "8628016b-0892-4c59-8dd8-9269f6d3ccf3",
   "metadata": {},
   "outputs": [
    {
     "name": "stdout",
     "output_type": "stream",
     "text": [
      "Modelo Lineal - R²: 0.5472658131833227, RMSE: 0.23521120732470197\n"
     ]
    }
   ],
   "source": [
    "#modelo lineal\n",
    "#Definir X e y\n",
    "X = df_clone[['Total Volume', '4046', '4225', '4770']]\n",
    "y = df_clone['AveragePrice']\n",
    "\n",
    "# Ajuste del modelo lineal\n",
    "scaler = StandardScaler()\n",
    "X_scaled = scaler.fit_transform(X)\n",
    "linear_model = LinearRegression()\n",
    "linear_model.fit(X_scaled, y)\n",
    "\n",
    "# Predicciones y evaluación del modelo\n",
    "y_pred_linear = linear_model.predict(X_scaled)\n",
    "rmse_linear = np.sqrt(mean_squared_error(y, y_pred_linear))\n",
    "r2_linear = r2_score(y, y_pred_linear)\n",
    "\n",
    "print(f\"Modelo Lineal - R²: {r2_linear}, RMSE: {rmse_linear}\")\n"
   ]
  },
  {
   "cell_type": "code",
   "execution_count": 138,
   "id": "73fe317d-34a0-4e58-a413-c742645c90af",
   "metadata": {},
   "outputs": [
    {
     "name": "stdout",
     "output_type": "stream",
     "text": [
      "Modelo Polinómico - R²: 0.572637971840217, RMSE: 0.2285253232520478\n"
     ]
    }
   ],
   "source": [
    "# Crear el modelo polinómico\n",
    "poly_model = make_pipeline(PolynomialFeatures(degree=2), LinearRegression())\n",
    "poly_model.fit(X, y)\n",
    "\n",
    "# Predicciones y evaluación del modelo polinómico\n",
    "y_pred_poly = poly_model.predict(X)\n",
    "rmse_poly = np.sqrt(mean_squared_error(y, y_pred_poly))\n",
    "r2_poly = r2_score(y, y_pred_poly)\n",
    "\n",
    "print(f\"Modelo Polinómico - R²: {r2_poly}, RMSE: {rmse_poly}\")"
   ]
  },
  {
   "cell_type": "code",
   "execution_count": 34,
   "id": "58102c6f-9c3d-4e39-a5f5-1bbb0dd6f14f",
   "metadata": {},
   "outputs": [
    {
     "data": {
      "text/plain": [
       "'\\nConcluyo que ya que el modelo lineal y el polinómico tienen resultados similares, la relación entre el precio promedio y los volúmenes de ventas puede ser lineal. \\nEsto indicaría que un cambio en el volumen de un tipo de producto impacta el precio promedio de manera proporcional y no depende de combinaciones o niveles de venta específicos.\\n'"
      ]
     },
     "execution_count": 34,
     "metadata": {},
     "output_type": "execute_result"
    }
   ],
   "source": [
    "'''\n",
    "Concluyo que ya que el modelo lineal y el polinómico tienen resultados similares, la relación entre el precio promedio y los volúmenes de ventas puede ser lineal. \n",
    "Esto indicaría que un cambio en el volumen de un tipo de producto impacta el precio promedio de manera proporcional y no depende de combinaciones o niveles de venta específicos.\n",
    "'''"
   ]
  },
  {
   "cell_type": "code",
   "execution_count": 35,
   "id": "4b7291b6-62ee-4b56-8d76-e2a40dee2b7d",
   "metadata": {},
   "outputs": [
    {
     "data": {
      "text/plain": [
       "'\\n5.9 - Análisis de la Influencia de las Ventas Totales en el Precio Promedio:**\\n   - **Uso de Datos:** Usa Total Volume, AveragePrice, y Total Bags.\\n   - **Esperado:** \\n     - Ajusta un modelo de regresión lineal y polinómica para ver cómo varía AveragePrice en función del volumen total de ventas.\\n     - Evalúa la significancia de los coeficientes y discute su relevancia.\\n'"
      ]
     },
     "execution_count": 35,
     "metadata": {},
     "output_type": "execute_result"
    }
   ],
   "source": [
    "'''\n",
    "5.9 - Análisis de la Influencia de las Ventas Totales en el Precio Promedio:**\n",
    "   - **Uso de Datos:** Usa Total Volume, AveragePrice, y Total Bags.\n",
    "   - **Esperado:** \n",
    "     - Ajusta un modelo de regresión lineal y polinómica para ver cómo varía AveragePrice en función del volumen total de ventas.\n",
    "     - Evalúa la significancia de los coeficientes y discute su relevancia.\n",
    "'''\n"
   ]
  },
  {
   "cell_type": "code",
   "execution_count": 144,
   "id": "4f59e776-589e-497a-baab-186ed04be8ea",
   "metadata": {},
   "outputs": [
    {
     "name": "stdout",
     "output_type": "stream",
     "text": [
      "Modelo Lineal - R²: 0.5319570373743769, RMSE: 0.23915486829499627\n"
     ]
    }
   ],
   "source": [
    "# Definir las variables independientes y dependientes\n",
    "X = df_clone[['Total Volume', 'Total Bags']]\n",
    "y = df_clone['AveragePrice']\n",
    "\n",
    "# Modelo de regresión lineal, probamos a escalar la X para ver si los resultados son mejores\n",
    "scaler = StandardScaler()\n",
    "X_scaled = scaler.fit_transform(X)\n",
    "linear_model = LinearRegression()\n",
    "linear_model.fit(X_scaled, y)\n",
    "\n",
    "# Realizar predicciones con el modelo lineal\n",
    "y_pred_linear = linear_model.predict(X_scaled)\n",
    "\n",
    "# Calcular métricas de evaluación\n",
    "r2_linear = r2_score(y, y_pred_linear)\n",
    "rmse_linear = np.sqrt(mean_squared_error(y, y_pred_linear))\n",
    "print(f\"Modelo Lineal - R²: {r2_linear}, RMSE: {rmse_linear}\")\n"
   ]
  },
  {
   "cell_type": "code",
   "execution_count": 37,
   "id": "dfe0efdf-d684-4ae9-87dc-cf06934a8b07",
   "metadata": {},
   "outputs": [
    {
     "name": "stdout",
     "output_type": "stream",
     "text": [
      "Modelo Polinómico - R²: 0.5492070562038398, RMSE: 0.2347063938634596\n"
     ]
    }
   ],
   "source": [
    "# Crear y ajustar el modelo polinómico\n",
    "poly_features = PolynomialFeatures(degree=2)\n",
    "X_poly = poly_features.fit_transform(X)\n",
    "poly_model = LinearRegression()\n",
    "poly_model.fit(X_poly, y)\n",
    "\n",
    "# Realizar predicciones con el modelo polinómico\n",
    "y_pred_poly = poly_model.predict(X_poly)\n",
    "\n",
    "# Calcular métricas de evaluación\n",
    "r2_poly = r2_score(y, y_pred_poly)\n",
    "rmse_poly = np.sqrt(mean_squared_error(y, y_pred_poly))\n",
    "print(f\"Modelo Polinómico - R²: {r2_poly}, RMSE: {rmse_poly}\")\n"
   ]
  },
  {
   "cell_type": "code",
   "execution_count": 38,
   "id": "bb410baa-8c79-4074-80f5-7040c5009cfe",
   "metadata": {},
   "outputs": [
    {
     "name": "stdout",
     "output_type": "stream",
     "text": [
      "Coeficientes del Modelo Lineal:\n",
      "Intercepto: 1.5952744803936925\n",
      "Total Volume: -1.3563291688122308e-07\n",
      "Total Bags: 1.1133866444444855e-07\n"
     ]
    }
   ],
   "source": [
    "# Coeficientes del modelo lineal\n",
    "print(\"Coeficientes del Modelo Lineal:\")\n",
    "print(f\"Intercepto: {linear_model.intercept_}\")\n",
    "for feature, coef in zip(['Total Volume', 'Total Bags'], linear_model.coef_):\n",
    "    print(f\"{feature}: {coef}\")\n"
   ]
  },
  {
   "cell_type": "code",
   "execution_count": 39,
   "id": "5b486957-bda3-4e79-adc6-f9fb8ab102fb",
   "metadata": {},
   "outputs": [
    {
     "name": "stdout",
     "output_type": "stream",
     "text": [
      "Coeficientes del Modelo Polinómico:\n",
      "Intercepto: 1.6038072502881908\n",
      "1: 0.0\n",
      "Total Volume: -2.8325128508446554e-07\n",
      "Total Bags: 5.053617990239962e-07\n",
      "Total Volume^2: 2.3897704859961776e-14\n",
      "Total Volume Total Bags: -5.1652072610453965e-14\n",
      "Total Bags^2: -3.18778241511853e-14\n"
     ]
    }
   ],
   "source": [
    "# Coeficientes del modelo polinómico\n",
    "print(\"Coeficientes del Modelo Polinómico:\")\n",
    "print(f\"Intercepto: {poly_model.intercept_}\")\n",
    "for feature, coef in zip(poly_features.get_feature_names_out(['Total Volume', 'Total Bags']), poly_model.coef_):\n",
    "    print(f\"{feature}: {coef}\")\n"
   ]
  },
  {
   "cell_type": "code",
   "execution_count": 40,
   "id": "5194707f-ea2c-4ad6-b848-df177d73172b",
   "metadata": {},
   "outputs": [
    {
     "data": {
      "text/plain": [
       "'\\nConclusiones\\n-Ambos modelos tienen valores de r2 y RMSE que indican que las variables Volumen Total y Bolsas no capturan completamente la variablidad en el precio promedio\\n-al haber poca diferencia entre las metricas de evaluacion de los dos modelos, el modelo lineal podría ser suficiente \\n-podríamos incluir otras variables que influyan en AveragePrice para mejorar el modelo\\n'"
      ]
     },
     "execution_count": 40,
     "metadata": {},
     "output_type": "execute_result"
    }
   ],
   "source": [
    "'''\n",
    "Conclusiones\n",
    "-Ambos modelos tienen valores de r2 y RMSE que indican que las variables Volumen Total y Bolsas no capturan completamente la variablidad en el precio promedio\n",
    "-al haber poca diferencia entre las metricas de evaluacion de los dos modelos, el modelo lineal podría ser suficiente \n",
    "-podríamos incluir otras variables que influyan en AveragePrice para mejorar el modelo\n",
    "'''\n"
   ]
  },
  {
   "cell_type": "code",
   "execution_count": 41,
   "id": "9cc15289-2384-4c55-8207-3cba0a83ea36",
   "metadata": {},
   "outputs": [
    {
     "data": {
      "text/plain": [
       "'\\n5.10 - Modelos de Regresión para Diferenciar Volúmenes de Ventas:\\n\\nUso de Datos: Usa AveragePrice, Total Volume, 4046, 4225, y 4770.\\nEsperado:\\nAjusta modelos de regresión para analizar cómo los diferentes volúmenes de ventas afectan AveragePrice.\\nCompara los resultados de regresión lineal y polinómica.\\nPresenta las conclusiones de tus análisis.\\n'"
      ]
     },
     "execution_count": 41,
     "metadata": {},
     "output_type": "execute_result"
    }
   ],
   "source": [
    "'''\n",
    "5.10 - Modelos de Regresión para Diferenciar Volúmenes de Ventas:\n",
    "\n",
    "Uso de Datos: Usa AveragePrice, Total Volume, 4046, 4225, y 4770.\n",
    "Esperado:\n",
    "Ajusta modelos de regresión para analizar cómo los diferentes volúmenes de ventas afectan AveragePrice.\n",
    "Compara los resultados de regresión lineal y polinómica.\n",
    "Presenta las conclusiones de tus análisis.\n",
    "'''\n",
    "\n",
    "\n"
   ]
  },
  {
   "cell_type": "code",
   "execution_count": 42,
   "id": "ca060030-4d89-4d8a-9b14-891b635b637a",
   "metadata": {},
   "outputs": [
    {
     "name": "stdout",
     "output_type": "stream",
     "text": [
      "Modelo Lineal - R²: 0.5472658131833227, RMSE: 0.23521120732470197\n"
     ]
    }
   ],
   "source": [
    "# Definir las variables independientes y dependientes\n",
    "X = df_clone[['Total Volume', '4046','4225','4770']]\n",
    "y = df_clone['AveragePrice']\n",
    "\n",
    "# Modelo de regresión lineal\n",
    "linear_model = LinearRegression()\n",
    "linear_model.fit(X, y)\n",
    "\n",
    "# Realizar predicciones con el modelo lineal\n",
    "y_pred_linear = linear_model.predict(X)\n",
    "\n",
    "# Calcular métricas de evaluación\n",
    "r2_linear = r2_score(y, y_pred_linear)\n",
    "rmse_linear = np.sqrt(mean_squared_error(y, y_pred_linear))\n",
    "print(f\"Modelo Lineal - R²: {r2_linear}, RMSE: {rmse_linear}\")\n"
   ]
  },
  {
   "cell_type": "code",
   "execution_count": 43,
   "id": "efa1036c-b167-430c-8d52-8d8e8f95ef51",
   "metadata": {},
   "outputs": [
    {
     "name": "stdout",
     "output_type": "stream",
     "text": [
      "Modelo Polinómico - R²: 0.572637971840217, RMSE: 0.2285253232520478\n"
     ]
    }
   ],
   "source": [
    "# Crear y ajustar el modelo polinómico\n",
    "poly_features = PolynomialFeatures(degree=2)\n",
    "X_poly = poly_features.fit_transform(X)\n",
    "poly_model = LinearRegression()\n",
    "poly_model.fit(X_poly, y)\n",
    "\n",
    "# Realizar predicciones con el modelo polinómico\n",
    "y_pred_poly = poly_model.predict(X_poly)\n",
    "\n",
    "# Calcular métricas de evaluación\n",
    "r2_poly = r2_score(y, y_pred_poly)\n",
    "rmse_poly = np.sqrt(mean_squared_error(y, y_pred_poly))\n",
    "print(f\"Modelo Polinómico - R²: {r2_poly}, RMSE: {rmse_poly}\")"
   ]
  },
  {
   "cell_type": "code",
   "execution_count": 44,
   "id": "fee7ec2e-83ce-43db-b5b4-bebbd8365e87",
   "metadata": {},
   "outputs": [
    {
     "name": "stdout",
     "output_type": "stream",
     "text": [
      "Coeficientes del Modelo Lineal:\n",
      "Intercepto: 1.5909470836648958\n",
      "Total Volume: -2.587138400723011e-08\n",
      "4046: -1.31662715109415e-07\n",
      "4225: -5.4721990582979434e-08\n",
      "4770: -4.402622570375915e-07\n"
     ]
    }
   ],
   "source": [
    "# Coeficientes del modelo lineal\n",
    "print(\"Coeficientes del Modelo Lineal:\")\n",
    "print(f\"Intercepto: {linear_model.intercept_}\")\n",
    "for feature, coef in zip(['Total Volume','4046','4225','4770'], linear_model.coef_):\n",
    "    print(f\"{feature}: {coef}\")"
   ]
  },
  {
   "cell_type": "code",
   "execution_count": 45,
   "id": "31cf0b1c-f749-4720-8b6c-8364c2fcf2f1",
   "metadata": {},
   "outputs": [
    {
     "data": {
      "text/plain": [
       "'\\nAnálisis de la Influencia de las Ventas Totales en el Precio Promedio:\\n\\nUso de Datos: Usa Total Volume, AveragePrice, y Total Bags.\\nEsperado:\\nAjusta un modelo de regresión lineal y polinómica para ver cómo varía AveragePrice en función del volumen total de ventas.\\nEvalúa la significancia de los coeficientes y discute su relevancia.\\n'"
      ]
     },
     "execution_count": 45,
     "metadata": {},
     "output_type": "execute_result"
    }
   ],
   "source": [
    "'''\n",
    "Análisis de la Influencia de las Ventas Totales en el Precio Promedio:\n",
    "\n",
    "Uso de Datos: Usa Total Volume, AveragePrice, y Total Bags.\n",
    "Esperado:\n",
    "Ajusta un modelo de regresión lineal y polinómica para ver cómo varía AveragePrice en función del volumen total de ventas.\n",
    "Evalúa la significancia de los coeficientes y discute su relevancia.\n",
    "'''"
   ]
  },
  {
   "cell_type": "code",
   "execution_count": 148,
   "id": "1ab3f0e6-22dd-4707-b306-1a47442d940b",
   "metadata": {},
   "outputs": [
    {
     "name": "stdout",
     "output_type": "stream",
     "text": [
      "Modelo Lineal:\n",
      "  R²: 0.5320\n",
      "  RMSE: 0.2392\n",
      "  Intercepto: 1.5953\n",
      "  Coeficientes:\n",
      "    Total Volume: -1.3563e-07\n",
      "    Total Bags: 1.1134e-07\n",
      "\n",
      "Modelo Polinómico:\n",
      "  R²: 0.5492\n",
      "  RMSE: 0.2347\n",
      "  Intercepto: 1.6038\n",
      "  Coeficientes:\n",
      "    1: 0.0000e+00\n",
      "    Total Volume: -2.8325e-07\n",
      "    Total Bags: 5.0536e-07\n",
      "    Total Volume^2: 2.3898e-14\n",
      "    Total Volume Total Bags: -5.1652e-14\n",
      "    Total Bags^2: -3.1878e-14\n",
      "\n",
      "Conclusiones:\n",
      "  El modelo polinómico muestra un mejor ajuste a los datos, con un mayor R² y menor RMSE.\n",
      "  Esto sugiere una posible relación no lineal entre las variables independientes y el precio promedio.\n",
      "\n"
     ]
    },
    {
     "name": "stderr",
     "output_type": "stream",
     "text": [
      "E:\\conda\\Lib\\site-packages\\sklearn\\metrics\\_regression.py:492: FutureWarning: 'squared' is deprecated in version 1.4 and will be removed in 1.6. To calculate the root mean squared error, use the function'root_mean_squared_error'.\n",
      "  warnings.warn(\n",
      "E:\\conda\\Lib\\site-packages\\sklearn\\metrics\\_regression.py:492: FutureWarning: 'squared' is deprecated in version 1.4 and will be removed in 1.6. To calculate the root mean squared error, use the function'root_mean_squared_error'.\n",
      "  warnings.warn(\n"
     ]
    }
   ],
   "source": [
    "resultados = regresion_modelos(df, ['Total Volume', 'Total Bags'], 'AveragePrice', modelo_tipo=3)\n",
    "print(formatear_resultados(resultados))\n"
   ]
  },
  {
   "cell_type": "code",
   "execution_count": 47,
   "id": "ba1f1169-3a52-49b2-97b3-463a35750585",
   "metadata": {},
   "outputs": [
    {
     "name": "stdout",
     "output_type": "stream",
     "text": [
      "Modelo Lineal:\n",
      "  R²: 0.5473\n",
      "  RMSE: 0.2352\n",
      "  Intercepto: 1.5909\n",
      "  Coeficientes:\n",
      "    Total Volume: -2.5871e-08\n",
      "    4046: -1.3166e-07\n",
      "    4225: -5.4722e-08\n",
      "    4770: -4.4026e-07\n",
      "\n",
      "Modelo Polinómico:\n",
      "  R²: 0.5726\n",
      "  RMSE: 0.2285\n",
      "  Intercepto: 1.6039\n",
      "  Coeficientes:\n",
      "    1: 0.0000e+00\n",
      "    Total Volume: 2.1545e-07\n",
      "    4046: -5.6411e-07\n",
      "    4225: -4.3689e-07\n",
      "    4770: -5.8577e-07\n",
      "    Total Volume^2: -4.6922e-14\n",
      "    Total Volume 4046: 8.2543e-14\n",
      "    Total Volume 4225: 9.6644e-14\n",
      "    Total Volume 4770: -8.3162e-14\n",
      "    4046^2: -2.2080e-15\n",
      "    4046 4225: -4.5890e-14\n",
      "    4046 4770: 3.4055e-13\n",
      "    4225^2: -2.7040e-14\n",
      "    4225 4770: 1.5744e-13\n",
      "    4770^2: -6.3715e-13\n",
      "\n",
      "Conclusiones:\n",
      "  El modelo polinómico muestra un mejor ajuste a los datos, con un mayor R² y menor RMSE.\n",
      "  Esto sugiere una posible relación no lineal entre las variables independientes y el precio promedio.\n",
      "\n"
     ]
    },
    {
     "name": "stderr",
     "output_type": "stream",
     "text": [
      "E:\\conda\\Lib\\site-packages\\sklearn\\metrics\\_regression.py:492: FutureWarning: 'squared' is deprecated in version 1.4 and will be removed in 1.6. To calculate the root mean squared error, use the function'root_mean_squared_error'.\n",
      "  warnings.warn(\n",
      "E:\\conda\\Lib\\site-packages\\sklearn\\metrics\\_regression.py:492: FutureWarning: 'squared' is deprecated in version 1.4 and will be removed in 1.6. To calculate the root mean squared error, use the function'root_mean_squared_error'.\n",
      "  warnings.warn(\n"
     ]
    }
   ],
   "source": [
    "'''\n",
    "Regresión para Predecir el Precio Promedio Según el Volumen de Aguacates por Tipo:\n",
    "\n",
    "Uso de Datos: Usa AveragePrice, 4046, 4225, 4770, y Total Volume.\n",
    "Esperado:\n",
    "Ajusta modelos de regresión lineal y polinómica.\n",
    "Evalúa la efectividad de ambos modelos utilizando métricas como R² y RMSE.\n",
    "Discute cuál modelo ofrece mejores predicciones y por qué, basándote en los resultados obtenidos.\n",
    "'''\n",
    "resultados = regresion_modelos(df, ['Total Volume', '4046','4225','4770'], 'AveragePrice', modelo_tipo=3)\n",
    "print(formatear_resultados(resultados))\n",
    "\n"
   ]
  }
 ],
 "metadata": {
  "kernelspec": {
   "display_name": "Python 3 (ipykernel)",
   "language": "python",
   "name": "python3"
  },
  "language_info": {
   "codemirror_mode": {
    "name": "ipython",
    "version": 3
   },
   "file_extension": ".py",
   "mimetype": "text/x-python",
   "name": "python",
   "nbconvert_exporter": "python",
   "pygments_lexer": "ipython3",
   "version": "3.12.7"
  }
 },
 "nbformat": 4,
 "nbformat_minor": 5
}
